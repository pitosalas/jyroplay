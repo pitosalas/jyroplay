{
 "cells": [
  {
   "cell_type": "code",
   "execution_count": 1,
   "metadata": {
    "collapsed": true
   },
   "outputs": [],
   "source": [
    "from jyro.simulator import *\n",
    "import numpy as np\n",
    "from math import pi\n",
    "from random import random"
   ]
  },
  {
   "cell_type": "code",
   "execution_count": 2,
   "metadata": {
    "collapsed": true
   },
   "outputs": [],
   "source": [
    "def make_world(physics):\n",
    "    physics.addBox(0, 0, 4, 4, fill=\"backgroundgreen\", wallcolor=\"gray\")\n",
    "    physics.addBox(1.75, 2.9, 2.25, 3.0, fill=\"blue\", wallcolor=\"blue\")\n",
    "    physics.addLight(2, 3.5, 1.0)"
   ]
  },
  {
   "cell_type": "code",
   "execution_count": 3,
   "metadata": {
    "collapsed": true
   },
   "outputs": [],
   "source": [
    "def make_robot():\n",
    "    robot = Pioneer(\"Pioneer\", 2, 1, 0) #paremeters are x, y, heading (in radians)\n",
    "    #robot.addDevice(Camera())\n",
    "    robot.addDevice(Pioneer16Sonars())\n",
    "    light_sensors = PioneerFrontLightSensors(3) #parameter defines max range\n",
    "    #light_sensors.lightMode = 'ambient'\n",
    "    robot.addDevice(light_sensors)\n",
    "    return robot"
   ]
  },
  {
   "cell_type": "code",
   "execution_count": 4,
   "metadata": {
    "collapsed": true
   },
   "outputs": [],
   "source": [
    "def get_senses(robot):\n",
    "    light = robot[\"light\"].getData()\n",
    "    #print(\"light\", light)\n",
    "    sonar = robot[\"sonar\"].getData()\n",
    "    #print(\"sonar\", sonar)\n",
    "    return [light, sonar]"
   ]
  },
  {
   "cell_type": "code",
   "execution_count": 5,
   "metadata": {
    "collapsed": true
   },
   "outputs": [],
   "source": [
    "def random_start(robot):\n",
    "    robot.setPose(0.5 + random()*2.5, 0.5 + random()*2, random()*2*pi)"
   ]
  },
  {
   "cell_type": "code",
   "execution_count": 6,
   "metadata": {
    "collapsed": true
   },
   "outputs": [],
   "source": [
    "def determine_move(senses):\n",
    "    \"\"\"Returns tuple of (translation, rotation) movement\"\"\"\n",
    "    lights = senses[0]\n",
    "    left_light = lights[0]\n",
    "    right_light = lights[1]\n",
    "    light_diff = abs(left_light-right_light)\n",
    "    sonars = senses[1]\n",
    "    # if found light, then stop\n",
    "    if sum(lights) > 1.8:\n",
    "        return (0, 0)\n",
    "    # if getting close to an obstacle in front, turn to avoid it\n",
    "    elif min(sonars[2:6]) < 0.5:\n",
    "        # if closer on left, turn right\n",
    "        if min(sonars[1:4]) < min(sonars[4:7]):\n",
    "            return (0, -0.3)\n",
    "        # otherwise, turn left\n",
    "        else:\n",
    "            return (0, 0.3)\n",
    "    # if diff in light readings is high enough or total of light readings is\n",
    "    # low ennough, then turn towards the light\n",
    "    elif light_diff > 0.1 or sum(lights) < 0.1:\n",
    "        # if brighter on left side, turn slightly left\n",
    "        if  left_light > right_light:\n",
    "            return (0.1, 0.3)\n",
    "        else:\n",
    "            return (0.1, -0.3)\n",
    "    # default is to go straight\n",
    "    else:\n",
    "        return (0.3, 0)\n",
    "    \n",
    "def find_light_brain(robot):\n",
    "    senses = get_senses(robot)\n",
    "    translate, rotate = determine_move(senses)\n",
    "    robot.move(translate, rotate)"
   ]
  },
  {
   "cell_type": "code",
   "execution_count": 7,
   "metadata": {},
   "outputs": [
    {
     "data": {
      "application/vnd.jupyter.widget-view+json": {
       "model_id": "6d2af366ef8842348cdcab189f623638"
      }
     },
     "metadata": {},
     "output_type": "display_data"
    }
   ],
   "source": [
    "robot = make_robot()\n",
    "vsim = VSimulator(robot, make_world) #create a visual simulator to watch robot's behavior"
   ]
  },
  {
   "cell_type": "code",
   "execution_count": 8,
   "metadata": {
    "collapsed": true
   },
   "outputs": [],
   "source": [
    "robot.brain = find_light_brain"
   ]
  },
  {
   "cell_type": "code",
   "execution_count": 9,
   "metadata": {},
   "outputs": [
    {
     "data": {
      "text/plain": [
       "[[0.48829546352045317, 0.6032978155686715],\n",
       " [2.3792704967262654,\n",
       "  2.2172579873953953,\n",
       "  2.550264963072796,\n",
       "  3.379763809459155,\n",
       "  2.700550397086818,\n",
       "  2.8329739228812185,\n",
       "  0.6191539292662528,\n",
       "  1.5670612373854729,\n",
       "  1.4886636877826502,\n",
       "  1.386443812223294,\n",
       "  1.605892614909107,\n",
       "  1.1149224916599896,\n",
       "  0.8662527357682284,\n",
       "  0.9097180563230894,\n",
       "  1.2089555927710705,\n",
       "  2.457668046329089]]"
      ]
     },
     "execution_count": 9,
     "metadata": {},
     "output_type": "execute_result"
    }
   ],
   "source": [
    "random_start(robot)\n",
    "vsim.update_gui()\n",
    "get_senses(robot)"
   ]
  },
  {
   "cell_type": "code",
   "execution_count": 10,
   "metadata": {
    "collapsed": true
   },
   "outputs": [],
   "source": [
    "def generate_data(robot, make_world, trials, filename):\n",
    "    sim = Simulator(robot, make_world)\n",
    "    fp = open(filename, \"w\")\n",
    "    for i in range(trials):\n",
    "        #print(\"Trial %d\" % i)\n",
    "        random_start(robot)\n",
    "        while True:\n",
    "            senses = get_senses(robot)\n",
    "            translate, rotate = determine_move(senses)\n",
    "            if translate == 0 and rotate == 0:\n",
    "                break # found light, so end trial\n",
    "            robot.move(translate, rotate)\n",
    "            sim.step()\n",
    "            lights = senses[0]\n",
    "            sonars = [min(v/3.0, 1.0) for v in senses[1]] #normalize sonar values\n",
    "            for value in lights:\n",
    "                fp.write(\"%.3f \" % value)\n",
    "            for value in sonars[1:7]:\n",
    "                fp.write(\"%.3f \" % value)\n",
    "            fp.write(\"%.1f %.1f\\n\" % (translate, rotate))\n",
    "    fp.close()"
   ]
  },
  {
   "cell_type": "code",
   "execution_count": 11,
   "metadata": {
    "collapsed": true
   },
   "outputs": [],
   "source": [
    "generate_data(robot, make_world, 5, \"testing_data.txt\")"
   ]
  },
  {
   "cell_type": "code",
   "execution_count": null,
   "metadata": {
    "collapsed": true
   },
   "outputs": [],
   "source": []
  }
 ],
 "metadata": {
  "kernelspec": {
   "display_name": "Python 3",
   "language": "python",
   "name": "python3"
  },
  "language_info": {
   "codemirror_mode": {
    "name": "ipython",
    "version": 3
   },
   "file_extension": ".py",
   "mimetype": "text/x-python",
   "name": "python",
   "nbconvert_exporter": "python",
   "pygments_lexer": "ipython3",
   "version": "3.5.2"
  }
 },
 "nbformat": 4,
 "nbformat_minor": 2
}
