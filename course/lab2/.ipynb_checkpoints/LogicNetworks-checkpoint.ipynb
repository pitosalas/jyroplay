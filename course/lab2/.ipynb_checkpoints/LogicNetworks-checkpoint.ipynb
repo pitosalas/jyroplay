{
 "cells": [
  {
   "cell_type": "markdown",
   "metadata": {},
   "source": [
    "# CS81 Adaptive Robotics\n",
    "## Lab 2a: Simple Logic Neural Networks\n",
    "### Due next Monday before noon\n",
    "---\n",
    "\n",
    "### Introduction\n",
    "\n",
    "In this notebook you will learn how to use [conx](http://conx.readthedocs.io/en/latest/) to create, train, and test simple neural networks.  The conx library is built on top of [keras](https://keras.io/), which is in turn built on top of [tensorflow](https://www.tensorflow.org/get_started/). \n",
    "\n",
    "### Defining a Network\n",
    "\n",
    "Here are the steps you need to go through to create a neural network in conx.\n",
    "1. Import the *conx* library.\n",
    "2. Construct a *Network* object.\n",
    "3. Add layers to the *Network*, starting with the input and ending with the output. For any non-input layer, specify the size of each layer as well as the activation function to use.  \n",
    "4. Connect the layers.\n",
    "5. Compile the network, giving it a *loss* and *optimizer*.  Below we use the Stochastic Gradient Descent (SGD) optimizer with a particular learning rate (lr) and momentum.\n",
    "6. Verify that the *Network* has the correct structure by creating a summary of the model.\n",
    "\n",
    "For our first conx network we will be learning logical OR, which will take 2 input values reprenting True/False and outputs True/False. "
   ]
  },
  {
   "cell_type": "code",
   "execution_count": 1,
   "metadata": {},
   "outputs": [
    {
     "name": "stderr",
     "output_type": "stream",
     "text": [
      "Using TensorFlow backend.\n"
     ]
    }
   ],
   "source": [
    "from conx import *"
   ]
  },
  {
   "cell_type": "code",
   "execution_count": 2,
   "metadata": {},
   "outputs": [
    {
     "name": "stdout",
     "output_type": "stream",
     "text": [
      "_________________________________________________________________\n",
      "Layer (type)                 Output Shape              Param #   \n",
      "=================================================================\n",
      "input (InputLayer)           (None, 2)                 0         \n",
      "_________________________________________________________________\n",
      "output (Dense)               (None, 1)                 3         \n",
      "=================================================================\n",
      "Total params: 3\n",
      "Trainable params: 3\n",
      "Non-trainable params: 0\n",
      "_________________________________________________________________\n"
     ]
    }
   ],
   "source": [
    "or_net = Network(\"or\")\n",
    "or_net.add(Layer(\"input\", 2))\n",
    "or_net.add(Layer(\"output\", 1, activation = \"sigmoid\"))\n",
    "or_net.connect()\n",
    "or_net.compile(loss=\"mse\", optimizer=SGD(lr=0.1, momentum=0.9))\n",
    "or_net.model.summary()"
   ]
  },
  {
   "cell_type": "markdown",
   "metadata": {},
   "source": [
    "The number of parameters in a network is based on the size of the layers.  Each layer automatically has an additional node, called the *bias*, which is fully connected to the next layer.  So to determine the number of paramters between any two layers, the formula is: **(size(layer1) + 1) * size(layer2)**.  So for this simple network, we have **(size(input) + 1) * size(output)** = **(2+1) * 1** = **3**.\n",
    "\n",
    "### Defining a Dataset \n",
    "\n",
    "In order to train a neural network you will need to define a dataset.  For small datasets, you can manually add the pairs of input patterns and target patterns one at a time. We will be using two inputs (using 1 to represent True and 0 to represent False) and outputting the OR of the two inputs, where OR(0,0)=0, OR(0,1)=1, OR(1,0)=1, and OR(1,1)=1. Using the **clear** method ensures that you won't add duplicates of the patterns as you are testing within a notebook."
   ]
  },
  {
   "cell_type": "code",
   "execution_count": 3,
   "metadata": {},
   "outputs": [
    {
     "name": "stdout",
     "output_type": "stream",
     "text": [
      "Input Summary:\n",
      "   count  : 4 (4 for training, 0 for testing)\n",
      "   shape  : (2,)\n",
      "   range  : (0.0, 1.0)\n",
      "Target Summary:\n",
      "   count  : 4 (4 for training, 0 for testing)\n",
      "   shape  : (1,)\n",
      "   range  : (0.0, 1.0)\n"
     ]
    }
   ],
   "source": [
    "or_net.dataset.clear()\n",
    "or_net.dataset.add([0,0], [0])\n",
    "or_net.dataset.add([0,1], [1])\n",
    "or_net.dataset.add([1,0], [1])\n",
    "or_net.dataset.add([1,1], [1])\n",
    "or_net.dataset.summary()"
   ]
  },
  {
   "cell_type": "markdown",
   "metadata": {},
   "source": [
    "Typically, you would divide the dataset into two subsets, one for training and another for validation. After each pass through the training set, the weights of the network are fixed and the validation set is tested to provide feedback on how well the network is learning.  This works best when the validation set is distinct from the training set. For small datasets, like the case with the OR problem, we don't have enough examples to create two separate datasets. If no validation set is provided, then the training set is also used as the validation set. \n",
    "\n",
    "### Training a Network\n",
    "\n",
    "Use the **reset** method, prior to training, to ensure that the network's parameters are re-initialized to random values. Next the **train** method is called.  The **train** method takes the following paramters.\n",
    "\n",
    "* **epochs**:\n",
    "One pass through the entire dataset is called an **epoch** of training.  This indicates the maximum number of epochs of training.\n",
    "* ** accuracy**:\n",
    "If the network achieves this percentage correct on the validation set, then training stops early. \n",
    "* **tolerance**: \n",
    "Defines how close an output has to be to the target to be considered correct.  A tolerance of 0.2 indicates that if the target is 1 and the output is greater than 0.8, it will be correct.  Similary if the target is 0 and the output is less than 0.2, it will be correct.  \n",
    "* **report_rate**:\n",
    "Specifies how often (in terms of epochs) the status of network training should be displayed.\n",
    "\n",
    "This network should train successfully in about 200 epochs.  Notice that training error decreases and accuracy increases over the course of training.  "
   ]
  },
  {
   "cell_type": "code",
   "execution_count": 4,
   "metadata": {},
   "outputs": [
    {
     "name": "stdout",
     "output_type": "stream",
     "text": [
      "Training...\n",
      "Epoch #   10 | train error 0.18936 | train accuracy 0.75000 | validate% 0.00000\n",
      "Epoch #   20 | train error 0.14094 | train accuracy 0.75000 | validate% 0.75000\n",
      "Epoch #   30 | train error 0.12541 | train accuracy 0.75000 | validate% 0.75000\n",
      "Epoch #   40 | train error 0.10035 | train accuracy 0.75000 | validate% 0.75000\n",
      "Epoch #   50 | train error 0.08024 | train accuracy 1.00000 | validate% 0.50000\n",
      "Epoch #   60 | train error 0.06831 | train accuracy 1.00000 | validate% 0.25000\n",
      "Epoch #   70 | train error 0.05903 | train accuracy 1.00000 | validate% 0.25000\n",
      "Epoch #   80 | train error 0.05132 | train accuracy 1.00000 | validate% 0.50000\n",
      "Epoch #   90 | train error 0.04523 | train accuracy 1.00000 | validate% 0.75000\n",
      "Epoch #  100 | train error 0.04031 | train accuracy 1.00000 | validate% 0.75000\n",
      "Epoch #  110 | train error 0.03625 | train accuracy 1.00000 | validate% 0.75000\n",
      "Epoch #  120 | train error 0.03285 | train accuracy 1.00000 | validate% 0.75000\n",
      "Epoch #  130 | train error 0.02999 | train accuracy 1.00000 | validate% 0.75000\n",
      "Epoch #  140 | train error 0.02754 | train accuracy 1.00000 | validate% 0.75000\n",
      "Epoch #  150 | train error 0.02543 | train accuracy 1.00000 | validate% 0.75000\n",
      "Epoch #  160 | train error 0.02359 | train accuracy 1.00000 | validate% 0.75000\n",
      "Epoch #  170 | train error 0.02198 | train accuracy 1.00000 | validate% 0.75000\n",
      "Epoch #  180 | train error 0.02056 | train accuracy 1.00000 | validate% 0.75000\n",
      "Epoch #  190 | train error 0.01930 | train accuracy 1.00000 | validate% 0.75000\n",
      "Epoch #  200 | train error 0.01817 | train accuracy 1.00000 | validate% 0.75000\n",
      "Epoch #  210 | train error 0.01716 | train accuracy 1.00000 | validate% 1.00000\n",
      "========================================================================\n",
      "Epoch #  210 | train error 0.01716 | train accuracy 1.00000 | validate% 1.00000\n"
     ]
    }
   ],
   "source": [
    "or_net.reset()\n",
    "or_net.train(epochs=500, accuracy=0.9, tolerance=0.2, report_rate=10)"
   ]
  },
  {
   "cell_type": "markdown",
   "metadata": {},
   "source": [
    "### Testing a Network\n",
    "\n",
    "Just as with training, when you test a network you can specify a tolerance level. You should use the same tolerance level when you test as you did when your trained."
   ]
  },
  {
   "cell_type": "code",
   "execution_count": 5,
   "metadata": {},
   "outputs": [
    {
     "name": "stdout",
     "output_type": "stream",
     "text": [
      "Testing on training dataset...\n",
      "# | inputs | targets | outputs | result\n",
      "---------------------------------------\n",
      "0 | [0.00, 0.00] | [0.00] | [0.20] | correct\n",
      "1 | [0.00, 1.00] | [1.00] | [0.88] | correct\n",
      "2 | [1.00, 0.00] | [1.00] | [0.88] | correct\n",
      "3 | [1.00, 1.00] | [1.00] | [1.00] | correct\n",
      "Total count: 4\n",
      "Total percentage correct: 1.0\n"
     ]
    }
   ],
   "source": [
    "or_net.test(tolerance=0.2)"
   ]
  },
  {
   "cell_type": "markdown",
   "metadata": {},
   "source": [
    "### Inspecting the Weights of a Network\n",
    "\n",
    "Because the OR network is so small, we can easily look at all of its weights. You can view the weights of network one layer at a time.  The following command displays the weights coming into the **output** layer."
   ]
  },
  {
   "cell_type": "code",
   "execution_count": 6,
   "metadata": {},
   "outputs": [
    {
     "data": {
      "text/plain": [
       "[[[3.3863375186920166], [3.391575336456299]], [-1.3892918825149536]]"
      ]
     },
     "execution_count": 6,
     "metadata": {},
     "output_type": "execute_result"
    }
   ],
   "source": [
    "or_net.get_weights(\"output\")"
   ]
  },
  {
   "cell_type": "markdown",
   "metadata": {},
   "source": [
    "The last value is the weight from the **bias** node. Remember that the **bias** node has a constant input value of 1.0. Do these weights make sense to you?  How do they work to correctly implement the OR function in the network? \n",
    "\n",
    "### Inspecting the Structure of a Network\n",
    "\n",
    "For very large networks, it is useful to see a visual depiction of the network, showing all of the layers and how they are connected. To do this in **conx**, simply evaluate the **Network** object's name. You can also watch the network propagate patterns one by one through this visualization.  Colors are used to represent the activation level of each node.  The blacker the color, the closer the activation is to 1.0.  The redder the color, the closer the activation is to -1.0.  The whiter the color, the closer the color is to 0.0. "
   ]
  },
  {
   "cell_type": "code",
   "execution_count": 7,
   "metadata": {},
   "outputs": [
    {
     "data": {
      "application/javascript": [
       "\n",
       "require(['base/js/namespace'], function(Jupyter) {\n",
       "    Jupyter.notebook.kernel.comm_manager.register_target('conx_svg_control', function(comm, msg) {\n",
       "        comm.on_msg(function(msg) {\n",
       "            var data = msg[\"content\"][\"data\"];\n",
       "            var images = document.getElementsByClassName(data[\"class\"]);\n",
       "            for (var i = 0; i < images.length; i++) {\n",
       "                images[i].setAttributeNS(null, \"href\", data[\"href\"]);\n",
       "            }\n",
       "        });\n",
       "    });\n",
       "});\n"
      ],
      "text/plain": [
       "<IPython.core.display.Javascript object>"
      ]
     },
     "metadata": {},
     "output_type": "display_data"
    },
    {
     "data": {
      "image/svg+xml": [
       "\n",
       "        <svg id='or' xmlns='http://www.w3.org/2000/svg' width=\"250\" height=\"185\" image-rendering=\"pixelated\">\n",
       "    <defs>\n",
       "        <marker id=\"arrow\" markerWidth=\"10\" markerHeight=\"10\" refX=\"9\" refY=\"3\" orient=\"auto\" markerUnits=\"strokeWidth\">\n",
       "          <path d=\"M0,0 L0,6 L9,3 z\" fill=\"black\" />\n",
       "        </marker>\n",
       "    </defs>\n",
       "<text x=\"125.0\" y=\"12.5\" font-family=\"monospace\" font-size=\"15\" text-anchor=\"middle\" alignment-baseline=\"central\">or</text><rect x=\"99.0\" y=\"29\" width=\"52\" height=\"52\" style=\"fill:none;stroke:black;stroke-width:2\"/><image id=\"or_output_1\" class=\"or_output\" x=\"100.0\" y=\"30\" height=\"50\" width=\"50\" preserveAspectRatio=\"none\" href=\"data:image/gif;base64,R0lGODdhAQABAIcAANRdSwAAAAAAAAAAAAAAAAAAAAAAAAAAAAAAAAAAAAAAAAAAAAAAAAAAAAAAAAAAAAAAAAAAAAAAAAAAAAAAAAAAAAAAAAAAAAAAAAAAAAAAAAAAAAAAAAAAAAAAAAAAAAAAAAAAAAAAAAAAAAAAAAAAAAAAAAAAAAAAAAAAAAAAAAAAAAAAAAAAAAAAAAAAAAAAAAAAAAAAAAAAAAAAAAAAAAAAAAAAAAAAAAAAAAAAAAAAAAAAAAAAAAAAAAAAAAAAAAAAAAAAAAAAAAAAAAAAAAAAAAAAAAAAAAAAAAAAAAAAAAAAAAAAAAAAAAAAAAAAAAAAAAAAAAAAAAAAAAAAAAAAAAAAAAAAAAAAAAAAAAAAAAAAAAAAAAAAAAAAAAAAAAAAAAAAAAAAAAAAAAAAAAAAAAAAAAAAAAAAAAAAAAAAAAAAAAAAAAAAAAAAAAAAAAAAAAAAAAAAAAAAAAAAAAAAAAAAAAAAAAAAAAAAAAAAAAAAAAAAAAAAAAAAAAAAAAAAAAAAAAAAAAAAAAAAAAAAAAAAAAAAAAAAAAAAAAAAAAAAAAAAAAAAAAAAAAAAAAAAAAAAAAAAAAAAAAAAAAAAAAAAAAAAAAAAAAAAAAAAAAAAAAAAAAAAAAAAAAAAAAAAAAAAAAAAAAAAAAAAAAAAAAAAAAAAAAAAAAAAAAAAAAAAAAAAAAAAAAAAAAAAAAAAAAAAAAAAAAAAAAAAAAAAAAAAAAAAAAAAAAAAAAAAAAAAAAAAAAAAAAAAAAAAAAAAAAAAAAAAAAAAAAAAAAAAAAAAAAAAAAAAAAAAAAAAAAAAAAAAAAAAAAAAAAAAAAAAAAAAAAAAAAAAAAAAAAAAAAAAAAAAAAAAAAAAAAAAAAAAAAAAAAAAAAAAAAAAAAAAAAAAAAAAAAAAAAAAAAAAAAAAAAAAAAAAAAAAAAAAAAAAAAAAAAAAAAAAAAAAAAAAAAAAAAAAAAAAAAAAAAAAAAAAAAAAAAAAAAAAAAAAAAAAAAAAAAAAAAAAACwAAAAAAQABAAAIBQABDAkIADs=\"><title>Layer: output (output)\n",
       " shape = (1,)\n",
       " Keras class = Dense\n",
       " activation = sigmoid</title></image><text x=\"155.0\" y=\"57.0\" font-family=\"monospace\" font-size=\"12\" text-anchor=\"start\" alignment-baseline=\"central\">output</text><line x1=\"125.0\" y1=\"109\" x2=\"125.0\" y2=\"82\" stroke=\"black\" stroke-width=\"2\" marker-end=\"url(#arrow)\"><title>Weights from input to output\n",
       " output_1/kernel:0 has shape (2, 1)\n",
       " output_1/bias:0 has shape (1,)</title></line><rect x=\"74.0\" y=\"109\" width=\"102\" height=\"52\" style=\"fill:none;stroke:black;stroke-width:2\"/><image id=\"or_input_2\" class=\"or_input\" x=\"75.0\" y=\"110\" height=\"50\" width=\"100\" preserveAspectRatio=\"none\" href=\"data:image/gif;base64,R0lGODdhAgABAIcAAP7+/QAAAAAAAAAAAAAAAAAAAAAAAAAAAAAAAAAAAAAAAAAAAAAAAAAAAAAAAAAAAAAAAAAAAAAAAAAAAAAAAAAAAAAAAAAAAAAAAAAAAAAAAAAAAAAAAAAAAAAAAAAAAAAAAAAAAAAAAAAAAAAAAAAAAAAAAAAAAAAAAAAAAAAAAAAAAAAAAAAAAAAAAAAAAAAAAAAAAAAAAAAAAAAAAAAAAAAAAAAAAAAAAAAAAAAAAAAAAAAAAAAAAAAAAAAAAAAAAAAAAAAAAAAAAAAAAAAAAAAAAAAAAAAAAAAAAAAAAAAAAAAAAAAAAAAAAAAAAAAAAAAAAAAAAAAAAAAAAAAAAAAAAAAAAAAAAAAAAAAAAAAAAAAAAAAAAAAAAAAAAAAAAAAAAAAAAAAAAAAAAAAAAAAAAAAAAAAAAAAAAAAAAAAAAAAAAAAAAAAAAAAAAAAAAAAAAAAAAAAAAAAAAAAAAAAAAAAAAAAAAAAAAAAAAAAAAAAAAAAAAAAAAAAAAAAAAAAAAAAAAAAAAAAAAAAAAAAAAAAAAAAAAAAAAAAAAAAAAAAAAAAAAAAAAAAAAAAAAAAAAAAAAAAAAAAAAAAAAAAAAAAAAAAAAAAAAAAAAAAAAAAAAAAAAAAAAAAAAAAAAAAAAAAAAAAAAAAAAAAAAAAAAAAAAAAAAAAAAAAAAAAAAAAAAAAAAAAAAAAAAAAAAAAAAAAAAAAAAAAAAAAAAAAAAAAAAAAAAAAAAAAAAAAAAAAAAAAAAAAAAAAAAAAAAAAAAAAAAAAAAAAAAAAAAAAAAAAAAAAAAAAAAAAAAAAAAAAAAAAAAAAAAAAAAAAAAAAAAAAAAAAAAAAAAAAAAAAAAAAAAAAAAAAAAAAAAAAAAAAAAAAAAAAAAAAAAAAAAAAAAAAAAAAAAAAAAAAAAAAAAAAAAAAAAAAAAAAAAAAAAAAAAAAAAAAAAAAAAAAAAAAAAAAAAAAAAAAAAAAAAAAAAAAAAAAAAAAAAAAAAAAAAAAAAAAAAAAAAAAAACwAAAAAAgABAAAIBQABAAgIADs=\"><title>Layer: input (input)\n",
       " shape = (2,)\n",
       " Keras class = Input</title></image><text x=\"180.0\" y=\"137.0\" font-family=\"monospace\" font-size=\"12\" text-anchor=\"start\" alignment-baseline=\"central\">input</text></svg>"
      ],
      "text/plain": [
       "<Network name='or' (compiled)>"
      ]
     },
     "execution_count": 7,
     "metadata": {},
     "output_type": "execute_result"
    }
   ],
   "source": [
    "or_net"
   ]
  },
  {
   "cell_type": "code",
   "execution_count": 8,
   "metadata": {
    "collapsed": true
   },
   "outputs": [],
   "source": [
    "from time import sleep\n",
    "for pattern in or_net.dataset.inputs:\n",
    "    or_net.propagate(pattern)\n",
    "    sleep(1.0)"
   ]
  },
  {
   "cell_type": "markdown",
   "metadata": {},
   "source": [
    "### Saving and Re-Loading a Network\n",
    "\n",
    "When training very large networks, it is useful to save the final state of the trained weights, and re-load them, rather then re-training from scratch each time."
   ]
  },
  {
   "cell_type": "code",
   "execution_count": 9,
   "metadata": {},
   "outputs": [
    {
     "name": "stdout",
     "output_type": "stream",
     "text": [
      "Trained weights [[[3.3863375186920166], [3.391575336456299]], [-1.3892918825149536]]\n",
      "Random weights [[[0.7200287580490112], [-0.41173863410949707]], [0.0]]\n",
      "Restored weights [[[3.3863375186920166], [3.391575336456299]], [-1.3892918825149536]]\n"
     ]
    }
   ],
   "source": [
    "print(\"Trained weights\", or_net.get_weights(\"output\"))\n",
    "or_net.save(\"and_net\") # save the network\n",
    "or_net.reset() # reset the network with new random weights\n",
    "print(\"Random weights\", or_net.get_weights(\"output\"))\n",
    "or_net.load(\"and_net\") # load the saved network\n",
    "print(\"Restored weights\", or_net.get_weights(\"output\"))"
   ]
  },
  {
   "cell_type": "markdown",
   "metadata": {
    "collapsed": true
   },
   "source": [
    "### Create, Train, and Test an AND network\n",
    "\n",
    "Now that you've seen how to use **conx**, create your own network to solve the logical AND problem, where AND(0,0)=0, AND(0,1)=0, AND(1,0)=0, and AND(1,1)=1. Be sure to inspect the weights after training, and explain how the network has solved the problem. "
   ]
  },
  {
   "cell_type": "code",
   "execution_count": 10,
   "metadata": {
    "collapsed": true
   },
   "outputs": [],
   "source": [
    "# Create the and_net "
   ]
  },
  {
   "cell_type": "code",
   "execution_count": 11,
   "metadata": {
    "collapsed": true
   },
   "outputs": [],
   "source": [
    "# Create the and_net dataset "
   ]
  },
  {
   "cell_type": "code",
   "execution_count": 12,
   "metadata": {
    "collapsed": true
   },
   "outputs": [],
   "source": [
    "# Train the and_net "
   ]
  },
  {
   "cell_type": "code",
   "execution_count": 13,
   "metadata": {
    "collapsed": true
   },
   "outputs": [],
   "source": [
    "# Test the and_net "
   ]
  },
  {
   "cell_type": "code",
   "execution_count": 14,
   "metadata": {
    "collapsed": true
   },
   "outputs": [],
   "source": [
    "# Inspect the and_net weights and explain them"
   ]
  },
  {
   "cell_type": "markdown",
   "metadata": {},
   "source": [
    "### Solving XOR\n",
    "\n",
    "The XOR logic problem is harder to solve than the previous two problems.  Recall that XOR(0,0)=0, XOR(0,1)=1, XOR(1,0)=1, and XOR(1,1)=0. It cannot be solved without adding another layer of nodes into the network. Any layer of nodes between the input and output layers is typically called a **hidden** layer.  If you need multiple hidden layers, you must give them unique names. "
   ]
  },
  {
   "cell_type": "code",
   "execution_count": 15,
   "metadata": {},
   "outputs": [
    {
     "name": "stdout",
     "output_type": "stream",
     "text": [
      "_________________________________________________________________\n",
      "Layer (type)                 Output Shape              Param #   \n",
      "=================================================================\n",
      "input (InputLayer)           (None, 2)                 0         \n",
      "_________________________________________________________________\n",
      "hidden (Dense)               (None, 2)                 6         \n",
      "_________________________________________________________________\n",
      "output (Dense)               (None, 1)                 3         \n",
      "=================================================================\n",
      "Total params: 9\n",
      "Trainable params: 9\n",
      "Non-trainable params: 0\n",
      "_________________________________________________________________\n"
     ]
    }
   ],
   "source": [
    "xor_net = Network(\"xor\")\n",
    "xor_net.add(Layer(\"input\", 2))\n",
    "xor_net.add(Layer(\"hidden\", 2, activation=\"sigmoid\"))\n",
    "xor_net.add(Layer(\"output\", 1, activation=\"sigmoid\"))\n",
    "xor_net.connect()\n",
    "xor_net.compile(loss=\"mse\", optimizer=SGD(lr=0.1, momentum=0.9))\n",
    "xor_net.model.summary()"
   ]
  },
  {
   "cell_type": "markdown",
   "metadata": {},
   "source": [
    "Explain why there are 9 parameters in this XOR network."
   ]
  },
  {
   "cell_type": "markdown",
   "metadata": {},
   "source": [
    "### Another way to Create a Dataset\n",
    "\n",
    "Rather than adding the training patterns one at a time as we did previously, you can instead create a list of all of the pairs of input, target patterns as shown below."
   ]
  },
  {
   "cell_type": "code",
   "execution_count": 16,
   "metadata": {},
   "outputs": [
    {
     "name": "stdout",
     "output_type": "stream",
     "text": [
      "Input Summary:\n",
      "   count  : 4 (4 for training, 0 for testing)\n",
      "   shape  : (2,)\n",
      "   range  : (0.0, 1.0)\n",
      "Target Summary:\n",
      "   count  : 4 (4 for training, 0 for testing)\n",
      "   shape  : (1,)\n",
      "   range  : (0.0, 1.0)\n"
     ]
    }
   ],
   "source": [
    "dataset = [\n",
    "    ([0, 0], [0]),\n",
    "    ([0, 1], [1]),\n",
    "    ([1, 0], [1]),\n",
    "    ([1, 1], [0])\n",
    "]\n",
    "xor_net.set_dataset(dataset)\n",
    "xor_net.dataset.summary()"
   ]
  },
  {
   "cell_type": "code",
   "execution_count": 17,
   "metadata": {},
   "outputs": [
    {
     "name": "stdout",
     "output_type": "stream",
     "text": [
      "Training...\n",
      "Epoch #   50 | train error 0.25027 | train accuracy 0.50000 | validate% 0.00000\n",
      "Epoch #  100 | train error 0.24960 | train accuracy 0.75000 | validate% 0.00000\n",
      "Epoch #  150 | train error 0.24920 | train accuracy 0.50000 | validate% 0.00000\n",
      "Epoch #  200 | train error 0.24845 | train accuracy 0.50000 | validate% 0.00000\n",
      "Epoch #  250 | train error 0.24702 | train accuracy 0.75000 | validate% 0.00000\n",
      "Epoch #  300 | train error 0.24451 | train accuracy 0.75000 | validate% 0.00000\n",
      "Epoch #  350 | train error 0.24049 | train accuracy 0.75000 | validate% 0.00000\n",
      "Epoch #  400 | train error 0.23457 | train accuracy 0.75000 | validate% 0.00000\n",
      "Epoch #  450 | train error 0.22638 | train accuracy 0.75000 | validate% 0.00000\n",
      "Epoch #  500 | train error 0.21617 | train accuracy 0.75000 | validate% 0.00000\n",
      "Epoch #  550 | train error 0.20536 | train accuracy 0.75000 | validate% 0.00000\n",
      "Epoch #  600 | train error 0.19552 | train accuracy 0.75000 | validate% 0.00000\n",
      "Epoch #  650 | train error 0.18715 | train accuracy 0.75000 | validate% 0.00000\n",
      "Epoch #  700 | train error 0.17992 | train accuracy 0.75000 | validate% 0.00000\n",
      "Epoch #  750 | train error 0.17334 | train accuracy 0.75000 | validate% 0.25000\n",
      "Epoch #  800 | train error 0.16712 | train accuracy 0.75000 | validate% 0.25000\n",
      "Epoch #  850 | train error 0.16123 | train accuracy 0.75000 | validate% 0.25000\n",
      "Epoch #  900 | train error 0.15568 | train accuracy 0.75000 | validate% 0.25000\n",
      "Epoch #  950 | train error 0.15021 | train accuracy 0.75000 | validate% 0.25000\n",
      "Epoch # 1000 | train error 0.14368 | train accuracy 0.75000 | validate% 0.25000\n",
      "Epoch # 1050 | train error 0.13221 | train accuracy 0.75000 | validate% 0.25000\n",
      "Epoch # 1100 | train error 0.10989 | train accuracy 1.00000 | validate% 0.25000\n",
      "Epoch # 1150 | train error 0.08542 | train accuracy 1.00000 | validate% 0.25000\n",
      "Epoch # 1200 | train error 0.06557 | train accuracy 1.00000 | validate% 0.25000\n",
      "Epoch # 1250 | train error 0.05057 | train accuracy 1.00000 | validate% 0.25000\n",
      "Epoch # 1300 | train error 0.03981 | train accuracy 1.00000 | validate% 0.75000\n",
      "Epoch # 1350 | train error 0.03215 | train accuracy 1.00000 | validate% 0.75000\n",
      "========================================================================\n",
      "Epoch # 1385 | train error 0.02809 | train accuracy 1.00000 | validate% 1.00000\n"
     ]
    }
   ],
   "source": [
    "xor_net.reset()\n",
    "xor_net.train(epochs=2000, accuracy=0.9, tolerance=0.2, report_rate=50)"
   ]
  },
  {
   "cell_type": "code",
   "execution_count": 18,
   "metadata": {},
   "outputs": [
    {
     "name": "stdout",
     "output_type": "stream",
     "text": [
      "Testing on training dataset...\n",
      "# | inputs | targets | outputs | result\n",
      "---------------------------------------\n",
      "0 | [0.00, 0.00] | [0.00] | [0.15] | correct\n",
      "1 | [0.00, 1.00] | [1.00] | [0.85] | correct\n",
      "2 | [1.00, 0.00] | [1.00] | [0.84] | correct\n",
      "3 | [1.00, 1.00] | [0.00] | [0.20] | correct\n",
      "Total count: 4\n",
      "Total percentage correct: 1.0\n"
     ]
    }
   ],
   "source": [
    "xor_net.test(tolerance=0.2)"
   ]
  },
  {
   "cell_type": "markdown",
   "metadata": {},
   "source": [
    "### XOR without a hidden layer\n",
    "\n",
    "Go back up to the cell where **xor_net** was defined, and comment out the line that adds the hidden layer.  Re-train and re-test the network.  How does it do?  \n",
    "\n",
    "Be sure to reinistate this line after you are done. "
   ]
  },
  {
   "cell_type": "markdown",
   "metadata": {},
   "source": [
    "### Inspecting the XOR weights\n",
    "\n",
    "To inspect all of the XOR weights you need to look at the weights coming into the **hidden** layer, as well as the weights coming into the **output** layer.  Try to make sense of how the network is solving the XOR problem."
   ]
  },
  {
   "cell_type": "code",
   "execution_count": 19,
   "metadata": {},
   "outputs": [
    {
     "data": {
      "text/plain": [
       "[[[-2.948525905609131, 5.685393810272217],\n",
       "  [-2.9902517795562744, 6.0619306564331055]],\n",
       " [4.342040061950684, -2.281262159347534]]"
      ]
     },
     "execution_count": 19,
     "metadata": {},
     "output_type": "execute_result"
    }
   ],
   "source": [
    "xor_net.get_weights(\"hidden\")"
   ]
  },
  {
   "cell_type": "code",
   "execution_count": 20,
   "metadata": {},
   "outputs": [
    {
     "data": {
      "text/plain": [
       "[[[5.104081153869629], [4.960365295410156]], [-7.207600116729736]]"
      ]
     },
     "execution_count": 20,
     "metadata": {},
     "output_type": "execute_result"
    }
   ],
   "source": [
    "xor_net.get_weights(\"output\")"
   ]
  },
  {
   "cell_type": "markdown",
   "metadata": {
    "collapsed": true
   },
   "source": [
    "### Use git to add, commit, and push\n",
    "\n",
    "Be sure to save this notebook before moving on."
   ]
  },
  {
   "cell_type": "code",
   "execution_count": null,
   "metadata": {
    "collapsed": true
   },
   "outputs": [],
   "source": []
  }
 ],
 "metadata": {
  "kernelspec": {
   "display_name": "Python 3",
   "language": "python",
   "name": "python3"
  },
  "language_info": {
   "codemirror_mode": {
    "name": "ipython",
    "version": 3
   },
   "file_extension": ".py",
   "mimetype": "text/x-python",
   "name": "python",
   "nbconvert_exporter": "python",
   "pygments_lexer": "ipython3",
   "version": "3.5.2"
  }
 },
 "nbformat": 4,
 "nbformat_minor": 2
}
