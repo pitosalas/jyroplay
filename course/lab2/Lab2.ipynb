{
 "cells": [
  {
   "cell_type": "markdown",
   "metadata": {},
   "source": [
    "# CS81 Adaptive Robotics\n",
    "\n",
    "## Lab 2: Neural Network Robot Controllers\n",
    "\n",
    "### Due next Monday before noon\n",
    "\n",
    "---\n",
    "\n",
    "### Lab goals\n",
    "\n",
    "1. Understand the conx library for neural networks\n",
    "2. Understand how to generate data for neural networks\n",
    "3. Control a robot using a neural network\n",
    "\n",
    "### Getting started\n",
    "\n",
    "Use the github server to get the starting point notebooks for this lab.\n",
    "\n",
    "There are three notebooks that you need to complete in this order:\n",
    "\n",
    "1. [LogicNetworks](http://www.cs.swarthmore.edu/~meeden/cs81/f17/LogicNetworks.html)\n",
    "2. [GenerateData](http://www.cs.swarthmore.edu/~meeden/cs81/f17/GenerateData.html)\n",
    "3. [NetworkFindLight](http://www.cs.swarthmore.edu/~meeden/cs81/f17/NetworkFindLight.html)\n"
   ]
  },
  {
   "cell_type": "code",
   "execution_count": null,
   "metadata": {
    "collapsed": true
   },
   "outputs": [],
   "source": []
  }
 ],
 "metadata": {
  "kernelspec": {
   "display_name": "Python 3",
   "language": "python",
   "name": "python3"
  },
  "language_info": {
   "codemirror_mode": {
    "name": "ipython",
    "version": 3
   },
   "file_extension": ".py",
   "mimetype": "text/x-python",
   "name": "python",
   "nbconvert_exporter": "python",
   "pygments_lexer": "ipython3",
   "version": "3.5.2"
  }
 },
 "nbformat": 4,
 "nbformat_minor": 2
}
