{
 "cells": [
  {
   "cell_type": "markdown",
   "metadata": {},
   "source": [
    "# CS81 Adaptive Robotics\n",
    "## Lab 3: Evolving Neural Network Controllers\n",
    "### Due next Monday before noon\n",
    "---\n",
    "### Lab goals\n",
    "1. Understand how to use NEAT to evolve neural networks\n",
    "2. Use NEAT to evolve a robot controller to solve a coverage task\n",
    "3. Experiment with which sensors allow the robot to achieve the best coverage\n",
    "\n",
    "### Getting started\n",
    "\n",
    "Use the github server to get the starting point Jupyter notebooks for this lab.\n",
    "\n",
    "Remember to do the following command in your terminal window to activate the virtual environment for this class:\n",
    "**source /usr/swat/bin/CS81env**\n",
    "\n",
    "### Introduction\n",
    "In this lab you will experiment with an evolutionary computation method called NEAT (Neuro Evolution of Augmenting Topologies) developed by Kenneth O. Stanley. NEAT operates on both the weights and the structure of a neural network, allowing connections and nodes to be added as potential mutations.  \n",
    "\n",
    "First you will evolve solutions to XOR.  Open the EvolveXOR notebook. \n",
    "\n",
    "Once you understand the basic mechanisms of NEAT, then you\n",
    "will evolve neural network controllers to produce motions that maximize coverage of the world. We will define coverage by dividing the world into a grid of possible locations.  The fitness will be based on the percentage of grid locations visited by the robot over the course of a trial where it gets to move for many steps while  being controlled by an evolved neural network.\n",
    "\n",
    "For example, the image below shows the best performing network from one run of NEAT. The purple line shows the trail of the robot. It begins in the center facing North, and spirals outward until it gets stuck in the bottom left corner.\n",
    "\n",
    "Note that each run of NEAT will be different, and the types of sensors you provide will have a big effect on the types of behaviors that emerge."
   ]
  },
  {
   "cell_type": "markdown",
   "metadata": {},
   "source": [
    "![example trail](trail.svg)"
   ]
  },
  {
   "cell_type": "code",
   "execution_count": 1,
   "metadata": {
    "collapsed": true
   },
   "outputs": [],
   "source": [
    "from jyro.simulator import *\n",
    "from math import pi, floor\n",
    "from random import random\n",
    "from neat3 import config, population, chromosome, genome, visualize\n",
    "from neat3.nn import nn_pure as nn\n",
    "import pickle\n",
    "import numpy as np"
   ]
  },
  {
   "cell_type": "markdown",
   "metadata": {},
   "source": [
    "### Calculating Coverage\n",
    "\n",
    "The following **Grid** class is used to create a fitness function for calculating how well a robot's motion covers a given environment. To construct a grid, you must pass in the desired grid width and the environment's width.  Make sure you understand this class and its methods."
   ]
  },
  {
   "cell_type": "code",
   "execution_count": 2,
   "metadata": {
    "collapsed": true
   },
   "outputs": [],
   "source": [
    "class Grid(object):\n",
    "    \"\"\"This class creates a grid of locations on top of a simulated world\n",
    "    to monitor how much of the world has been visited. Each grid location\n",
    "    is initally set to 0 to indicate that it is unvisited, and is updated\n",
    "    to 1, once it has been visited.\"\"\"\n",
    "    def __init__(self, grid_width, world_width):\n",
    "        self.grid_width = grid_width\n",
    "        self.world_width = world_width\n",
    "        self.grid = []\n",
    "        for i in range(self.grid_width):\n",
    "            self.grid.append([0] * self.grid_width)\n",
    "\n",
    "    def show(self):\n",
    "        \"\"\"Print a representation of the grid.\"\"\"\n",
    "        for i in range(self.grid_width):\n",
    "            for j in range(self.grid_width):\n",
    "                print(\"%2d\" % self.grid[i][j], end=\" \")\n",
    "            print()\n",
    "        print()\n",
    "        \n",
    "    def update(self, x, y):\n",
    "        \"\"\"In the simulator, the origin is at the bottom left corner.\n",
    "        Adjust the row to match this configuration. Set the appropriate\n",
    "        grid location to 1.\"\"\"\n",
    "        size = self.world_width/self.grid_width\n",
    "        col = floor(x/size)\n",
    "        # adjust the row so that it matches the simulator\n",
    "        row = self.grid_width - 1 - floor(y/size)\n",
    "        self.grid[row][col] = 1\n",
    "        \n",
    "    def analyze_visits(self):\n",
    "        \"\"\"Calculate the percentage of visited cells in the grid.\"\"\"\n",
    "        cells_visited = 0\n",
    "        for i in range(self.grid_width):\n",
    "            for j in range(self.grid_width):\n",
    "                if self.grid[i][j] > 0:\n",
    "                    cells_visited += 1\n",
    "        percent_visited = cells_visited/self.grid_width**2\n",
    "        return percent_visited\n"
   ]
  },
  {
   "cell_type": "markdown",
   "metadata": {},
   "source": [
    "### Testing Coverage\n",
    "\n",
    "Let's create a world and robot.  We'll allow the robot to move around randomly.  As it moves, we can record the (x, y) locations that it visits. Test the grid several times.  Try different grid sizes, such as 10 or 20."
   ]
  },
  {
   "cell_type": "code",
   "execution_count": 3,
   "metadata": {
    "collapsed": true
   },
   "outputs": [],
   "source": [
    "def make_world(physics):\n",
    "    physics.addBox(0, 0, 4, 4, fill=\"white\", wallcolor=\"black\")"
   ]
  },
  {
   "cell_type": "code",
   "execution_count": 4,
   "metadata": {
    "collapsed": true
   },
   "outputs": [],
   "source": [
    "def make_robot():\n",
    "    robot = Pioneer(\"Pioneer\", 2, 2, 0) #paremeters are x, y, heading (in radians)\n",
    "    robot.addDevice(Pioneer16Sonars())\n",
    "    return robot"
   ]
  },
  {
   "cell_type": "code",
   "execution_count": 5,
   "metadata": {
    "collapsed": true
   },
   "outputs": [],
   "source": [
    "def random_act():\n",
    "    return random()*2-1, random()*2-1"
   ]
  },
  {
   "cell_type": "code",
   "execution_count": 6,
   "metadata": {},
   "outputs": [
    {
     "data": {
      "application/vnd.jupyter.widget-view+json": {
       "model_id": "9e0df30f1d6b4eaabb1051f13529e1d6"
      }
     },
     "metadata": {},
     "output_type": "display_data"
    },
    {
     "name": "stdout",
     "output_type": "stream",
     "text": [
      " 0  0  0  0  0  0  0  0  0  0  0  0  0  0  0 \n",
      " 0  0  0  0  0  0  0  0  0  0  0  0  0  0  0 \n",
      " 0  0  0  0  0  0  0  0  0  0  0  0  0  0  0 \n",
      " 0  0  0  0  0  0  0  0  0  0  0  0  0  0  0 \n",
      " 0  0  0  0  0  0  0  0  0  0  0  0  0  0  0 \n",
      " 0  0  0  0  0  0  0  0  0  0  0  0  0  0  0 \n",
      " 0  0  0  0  0  0  0  0  0  0  0  0  0  0  0 \n",
      " 0  0  0  0  0  0  0  1  0  0  0  0  0  0  0 \n",
      " 0  0  0  0  0  0  0  1  0  0  0  0  0  0  0 \n",
      " 0  0  0  0  0  0  0  1  0  0  0  0  0  0  0 \n",
      " 0  0  0  0  0  1  0  0  1  0  0  0  0  0  0 \n",
      " 0  0  0  0  0  1  1  1  1  1  0  0  0  0  0 \n",
      " 0  0  0  0  1  1  1  1  1  1  0  0  0  0  0 \n",
      " 0  0  0  0  1  0  0  0  0  0  0  0  0  0  0 \n",
      " 0  0  0  0  0  0  0  0  0  0  0  0  0  0  0 \n",
      "\n",
      "Percent visited 0.07555555555555556\n"
     ]
    }
   ],
   "source": [
    "def test_grid():\n",
    "    robot = make_robot()\n",
    "    vsim = VSimulator(robot, make_world)\n",
    "    robot.useTrail = True\n",
    "    robot.display['trail'] = 1\n",
    "    grid = Grid(15, 4)\n",
    "    action = random_act()\n",
    "    for i in range(100):\n",
    "        vsim.step()\n",
    "        if i%20 == 0:\n",
    "            action = random_act()\n",
    "        robot.move(*action)\n",
    "        x, y, a = robot.getPose()\n",
    "        grid.update(x, y)\n",
    "    grid.show()\n",
    "    percent =  grid.analyze_visits()\n",
    "    print(\"Percent visited\", percent) \n",
    "\n",
    "test_grid()"
   ]
  },
  {
   "cell_type": "markdown",
   "metadata": {},
   "source": [
    "### Configuring NEAT\n",
    "\n",
    "Set key parameters of the NEAT experiments here.  "
   ]
  },
  {
   "cell_type": "code",
   "execution_count": 7,
   "metadata": {},
   "outputs": [
    {
     "name": "stdout",
     "output_type": "stream",
     "text": [
      "Overwriting configCoverage\n"
     ]
    }
   ],
   "source": [
    "%%file configCoverage\n",
    "#--- parameters for the robot experiment ---#\n",
    "[phenotype]\n",
    "input_nodes         = 3\n",
    "output_nodes        = 2\n",
    "max_weight          = 30\n",
    "min_weight          = -30\n",
    "feedforward         = 1\n",
    "nn_activation       = tanh\n",
    "hidden_nodes        = 0\n",
    "weight_stdev        = 0.9\n",
    "\n",
    "[genetic]\n",
    "pop_size              = 30\n",
    "max_fitness_threshold = 1\n",
    "\n",
    "# Human reasoning\n",
    "prob_addconn          = 0.1\n",
    "prob_addnode          = 0.05\n",
    "prob_mutatebias       = 0.2\n",
    "bias_mutation_power   = 0.5\n",
    "prob_mutate_weight    = 0.9\n",
    "weight_mutation_power = 1.5\n",
    "prob_togglelink       = 0.01\n",
    "elitism               = 1\n",
    "\n",
    "[genotype compatibility]\n",
    "compatibility_threshold = 3.0\n",
    "compatibility_change    = 0.0\n",
    "excess_coeficient       = 1.0\n",
    "disjoint_coeficient     = 1.0\n",
    "weight_coeficient       = 0.4\n",
    "\n",
    "[species]\n",
    "species_size        = 10\n",
    "survival_threshold  = 0.2\n",
    "old_threshold       = 30\n",
    "youth_threshold     = 10\n",
    "old_penalty         = 0.2\n",
    "youth_boost         = 1.2\n",
    "max_stagnation      = 15"
   ]
  },
  {
   "cell_type": "markdown",
   "metadata": {},
   "source": [
    "### Sensor inputs for achieving coverage\n",
    "\n",
    "What are the best sensors for allowing NEAT to find good coverage solutions? Here are some options to consider:\n",
    "\n",
    "1. all or some subset of the scaled sonars\n",
    "2. stall\n",
    "3. scaled timer (either counting up or counting down)\n",
    "4. bias (some constant value)\n",
    "5. current coverage\n",
    "\n",
    "For example, the following function uses just three sensors: the scaled minimum of the front sonar sensors, the stall sensor, and a count down timer.  The count down timer gives the robot a sense of how long a trial will last. A count down timer starts at 1.0 and decreases linearly to 0.0. A count up timer works in the reverse direction. It starts at 0.0 and increases linearly to 1.0. \n",
    "\n",
    "Remember that all inputs and targes to a neural network should be scaled to match the range of the activation function.  In our case, this will be **tanh** which has a range of **[-1,1]**."
   ]
  },
  {
   "cell_type": "code",
   "execution_count": 8,
   "metadata": {
    "collapsed": true
   },
   "outputs": [],
   "source": [
    "def get_sensors(robot, steps, i):\n",
    "    sonars = robot[\"sonar\"].getData()\n",
    "    scaled = [min(v/5.0, 1.0) for v in sonars]\n",
    "    timer_down = (steps-i)/steps\n",
    "    inputs = [min(scaled[3:5]), robot.stall, timer_down]\n",
    "    return inputs"
   ]
  },
  {
   "cell_type": "markdown",
   "metadata": {},
   "source": [
    "### Fitness\n",
    "\n",
    "We will tie a network's fitness directly to the percent of grid locations a robot visits. Notice that on each time step, the **eval_individual** function is running a non-visual simulatator and uses the **get_sensors** function to determine the inputs to the networks."
   ]
  },
  {
   "cell_type": "code",
   "execution_count": 9,
   "metadata": {
    "collapsed": true
   },
   "outputs": [],
   "source": [
    "def eval_individual(brain, robot, sim, show_trail=False, steps=1000):\n",
    "    robot.setPose(2, 2, 0)\n",
    "    if show_trail:\n",
    "        robot.useTrail = True\n",
    "        robot.trail = []   \n",
    "        robot.display['trail'] = 1\n",
    "    grid = Grid(15, 4) \n",
    "    for i in range(steps):\n",
    "        brain.flush() \n",
    "        inputs = get_sensors(robot, steps, i)\n",
    "        output = brain.sactivate(inputs)\n",
    "        robot.move(*output)\n",
    "        x, y, a = robot.getPose()\n",
    "        grid.update(x, y)\n",
    "        sim.step()\n",
    "    return grid.analyze_visits()"
   ]
  },
  {
   "cell_type": "code",
   "execution_count": 10,
   "metadata": {
    "collapsed": true
   },
   "outputs": [],
   "source": [
    "def eval_population(population):\n",
    "    print(\"Evaluating chromo\", end=\" \")\n",
    "    for i in range(len(population)):\n",
    "        print(i, end=\" \")\n",
    "        chromo = population[i]\n",
    "        brain = nn.create_ffphenotype(chromo)\n",
    "        chromo.fitness = eval_individual(brain, robot, sim)\n",
    "    print()"
   ]
  },
  {
   "cell_type": "markdown",
   "metadata": {},
   "source": [
    "### Evolution\n",
    "\n",
    "Note that evolving brains for robots will be a **much** slower process than evolving solutions to XOR.  Here we need to create the network and allow it to control the robot for an extended period of time in the simulator in order to determine it's fitness. In order for you to see quick results, I have initially set the number of generations to 5, however, you should increase this for your experiments. \n",
    "\n",
    "Remember to look at the files **avg_fitness.svg** and **speciation.svg** after evolution is complete. You'll need to use a linux command such as **eog** in a terminal window to view them."
   ]
  },
  {
   "cell_type": "code",
   "execution_count": 11,
   "metadata": {
    "collapsed": true
   },
   "outputs": [],
   "source": [
    "def evolve(n):\n",
    "    config.load('configCoverage')\n",
    "    chromosome.node_gene_type = genome.NodeGene\n",
    "    # Tell NEAT that we want to use the above function to evaluate fitness\n",
    "    population.Population.evaluate = eval_population\n",
    "    # Create a population (the size is defined in the configuration file)\n",
    "    pop = population.Population()\n",
    "    # Run NEAT's genetic algorithm for at most 30 epochs\n",
    "    # It will stop if fitness surpasses the max_fitness_threshold in config file\n",
    "    pop.epoch(n, report=True, save_best=True, name=\"Coverage\")\n",
    "    # Plots the evolution of the best/average fitness\n",
    "    visualize.plot_stats(pop.stats, name=\"Coverage_\")\n",
    "    # Visualizes speciation\n",
    "    visualize.plot_species(pop.species_log, name=\"Coverage_\")"
   ]
  },
  {
   "cell_type": "code",
   "execution_count": 12,
   "metadata": {},
   "outputs": [
    {
     "name": "stdout",
     "output_type": "stream",
     "text": [
      "\n",
      " ****** Running generation 0 ****** \n",
      "\n",
      "Evaluating chromo 0 1 2 3 4 5 6 7 8 9 10 11 12 13 14 15 16 17 18 19 20 21 22 23 24 25 26 27 28 29 \n",
      "Population's average fitness: 0.13719 stdev: 0.13322\n",
      "Best fitness: 0.4755555555 - size: (0, 6) - species 1 - id 12\n",
      "Species length: 1 totalizing 30 individuals\n",
      "Species ID       : [1]\n",
      "Each species size: [30]\n",
      "Amount to spawn  : [30]\n",
      "Species age      : [0]\n",
      "Species no improv: [0]\n",
      "\n",
      " ****** Running generation 1 ****** \n",
      "\n",
      "Evaluating chromo 0 1 2 3 4 5 6 7 8 9 10 11 12 13 14 15 16 17 18 19 20 21 22 23 24 25 26 27 28 29 \n",
      "Population's average fitness: 0.21941 stdev: 0.16763\n",
      "Best fitness: 0.5066666666 - size: (0, 6) - species 1 - id 36\n",
      "Species length: 1 totalizing 30 individuals\n",
      "Species ID       : [1]\n",
      "Each species size: [30]\n",
      "Amount to spawn  : [30]\n",
      "Species age      : [1]\n",
      "Species no improv: [0]\n",
      "\n",
      " ****** Running generation 2 ****** \n",
      "\n",
      "Evaluating chromo 0 1 2 3 4 5 6 7 8 9 10 11 12 13 14 15 16 17 18 19 20 21 22 23 24 25 26 27 28 29 \n",
      "Population's average fitness: 0.26711 stdev: 0.18433\n",
      "Best fitness: 0.7511111111 - size: (0, 6) - species 1 - id 68\n",
      "Species length: 1 totalizing 30 individuals\n",
      "Species ID       : [1]\n",
      "Each species size: [30]\n",
      "Amount to spawn  : [30]\n",
      "Species age      : [2]\n",
      "Species no improv: [0]\n",
      "\n",
      " ****** Running generation 3 ****** \n",
      "\n",
      "Evaluating chromo 0 1 2 3 4 5 6 7 8 9 10 11 12 13 14 15 16 17 18 19 20 21 22 23 24 25 26 27 28 29 \n",
      "Population's average fitness: 0.27274 stdev: 0.22203\n",
      "Best fitness: 0.7511111111 - size: (0, 6) - species 1 - id 68\n",
      "Species length: 1 totalizing 30 individuals\n",
      "Species ID       : [1]\n",
      "Each species size: [30]\n",
      "Amount to spawn  : [30]\n",
      "Species age      : [3]\n",
      "Species no improv: [0]\n",
      "\n",
      " ****** Running generation 4 ****** \n",
      "\n",
      "Evaluating chromo 0 1 2 3 4 5 6 7 8 9 10 11 12 13 14 15 16 17 18 19 20 21 22 23 24 25 26 27 28 29 \n",
      "Population's average fitness: 0.28296 stdev: 0.25284\n",
      "Best fitness: 0.7511111111 - size: (0, 6) - species 1 - id 68\n",
      "Species length: 1 totalizing 30 individuals\n",
      "Species ID       : [1]\n",
      "Each species size: [30]\n",
      "Amount to spawn  : [30]\n",
      "Species age      : [4]\n",
      "Species no improv: [0]\n"
     ]
    }
   ],
   "source": [
    "robot = make_robot()\n",
    "sim = Simulator(robot, make_world)\n",
    "evolve(5)"
   ]
  },
  {
   "cell_type": "code",
   "execution_count": 13,
   "metadata": {
    "collapsed": true
   },
   "outputs": [],
   "source": [
    "def eval_best(chromo_file):\n",
    "    config.load('configCoverage')\n",
    "    chromosome.node_gene_type = genome.NodeGene\n",
    "    fp = open(chromo_file, \"rb\")\n",
    "    chromo = pickle.load(fp)\n",
    "    print(chromo)\n",
    "    fp.close()\n",
    "    visualize.draw_net(chromo, \"_\" + chromo_file)    \n",
    "    brain = nn.create_ffphenotype(chromo)\n",
    "    fitness = eval_individual(brain, robot, sim, show_trail=True)\n",
    "    canvas = Canvas((400,400))\n",
    "    sim.physics.draw(canvas)\n",
    "    canvas.save(\"trail_\" + chromo_file + \".svg\")\n",
    "    print(\"fitness\", fitness)"
   ]
  },
  {
   "cell_type": "markdown",
   "metadata": {},
   "source": [
    "### Analysis\n",
    "\n",
    "Try evaluating the best chromosomes found at each generation of one of your evolutionary runs.  Describe how the behavior improved from one generation to the next.  Remember to look at the phenotype images that are also created when you evaluate the best chromosomes. These images show the topologies of the evolved networks. Describe whether the network topology changed from one generation to the next. "
   ]
  },
  {
   "cell_type": "code",
   "execution_count": 14,
   "metadata": {},
   "outputs": [
    {
     "name": "stdout",
     "output_type": "stream",
     "text": [
      "Nodes:\n",
      "\tNode  1  INPUT, bias  0, response 4.924273\n",
      "\tNode  2  INPUT, bias  0, response 4.924273\n",
      "\tNode  3  INPUT, bias  0, response 4.924273\n",
      "\tNode  4 OUTPUT, bias  0, response 4.924273\n",
      "\tNode  5 OUTPUT, bias  0, response 4.59636999\n",
      "Connections:\n",
      "\tIn  1, Out  4, Weight +4.47802, Enabled, Innov 1\n",
      "\tIn  2, Out  4, Weight -1.18637, Enabled, Innov 2\n",
      "\tIn  3, Out  4, Weight -1.66251, Enabled, Innov 3\n",
      "\tIn  1, Out  5, Weight +0.59460, Enabled, Innov 4\n",
      "\tIn  2, Out  5, Weight -1.92570, Enabled, Innov 5\n",
      "\tIn  3, Out  5, Weight -0.62414, Enabled, Innov 6\n",
      "Node order: []\n",
      "fitness 0.7511111111111111\n"
     ]
    }
   ],
   "source": [
    "eval_best(\"Coverage_best_chromo_4\")"
   ]
  },
  {
   "cell_type": "markdown",
   "metadata": {
    "collapsed": true
   },
   "source": [
    "### Experiments\n",
    "\n",
    "When using NEAT, many parameter settings must be specified and it isn't always clear how best to make these choices.  Each of the choices made in the code above can affect the types of behavior that will be evolved.  Below are just some of the parameter settings that you could explore. \n",
    "\n",
    "1. What inputs should be provided? In the original code only three were given: the normalized minimum of front sonar sensors, the stall sensor, and a count down timer. Try other combinations of inputs.\n",
    "\n",
    "2. How should fitness be measured? In the original code we used a grid size of 15 and the percent visited as the fitness.  How would things change if we made the grid size bigger or smaller?  Is there a better method of evaluating coverage rather than percent visited?\n",
    "\n",
    "3. How should the NEAT parameters be set? Should the probability of adding nodes and connections be changed?  Should more or less speciation be encouraged?  Should we use bigger populations and run for more generations? \n",
    "\n",
    "Run a series of 10 experiments using the original set up that I provided.  Each evolution should be for at least 10 generations. Report on the best coverage achieved in each run, as well as the complexity of the best networks in terms of the number of nodes and connections in the network topology. Note that the evolution process is not guaranteed to always lead to ever increasing fitness levels.  Sometimes an earlier generation can find a higher performing solution than a later generation. \n",
    "\n",
    "Modify the parameters in one of the ways suggested above. Run a series of 10 more experiments. Compare these results to original results.  Try to find a set of parameters that outperforms the ones I provided. "
   ]
  },
  {
   "cell_type": "markdown",
   "metadata": {},
   "source": [
    "### Results\n",
    "\n",
    "Report on the results of your experiments here.  \n"
   ]
  },
  {
   "cell_type": "markdown",
   "metadata": {},
   "source": [
    "### Use git to commit, add, and push\n",
    "\n",
    "Be sure to save this notebook to the repository."
   ]
  },
  {
   "cell_type": "code",
   "execution_count": null,
   "metadata": {
    "collapsed": true
   },
   "outputs": [],
   "source": []
  }
 ],
 "metadata": {
  "kernelspec": {
   "display_name": "Python 3",
   "language": "python",
   "name": "python3"
  },
  "language_info": {
   "codemirror_mode": {
    "name": "ipython",
    "version": 3
   },
   "file_extension": ".py",
   "mimetype": "text/x-python",
   "name": "python",
   "nbconvert_exporter": "python",
   "pygments_lexer": "ipython3",
   "version": "3.5.2"
  }
 },
 "nbformat": 4,
 "nbformat_minor": 2
}
