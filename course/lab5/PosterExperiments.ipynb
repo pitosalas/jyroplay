{
 "cells": [
  {
   "cell_type": "markdown",
   "metadata": {},
   "source": [
    "# CS81 Adaptive Robotics\n",
    "## Lab 5: Proposal for Poster\n",
    "### Due the Monday after Fall Break (Oct. 23)\n",
    "---\n",
    "Start thinking about what you'd like to focus on for your poster.  The poster is a good opportunity to  explore a topic you might want to pursue for your final project in this class.  Use this notebook to describe your ideas.  Your poster experiment can use any of the adaptive techniques that we've read about this semester including deep learning, developmental learning, reinforcement learning, NEAT, or Novelty Search.  You can also explore other adaptive approaches that we haven't covered, as long as you ok it with me. "
   ]
  },
  {
   "cell_type": "code",
   "execution_count": null,
   "metadata": {
    "collapsed": true
   },
   "outputs": [],
   "source": []
  }
 ],
 "metadata": {
  "kernelspec": {
   "display_name": "Python 3",
   "language": "python",
   "name": "python3"
  },
  "language_info": {
   "codemirror_mode": {
    "name": "ipython",
    "version": 3
   },
   "file_extension": ".py",
   "mimetype": "text/x-python",
   "name": "python",
   "nbconvert_exporter": "python",
   "pygments_lexer": "ipython3",
   "version": "3.5.2"
  }
 },
 "nbformat": 4,
 "nbformat_minor": 2
}
