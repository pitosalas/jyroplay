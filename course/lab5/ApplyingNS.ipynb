{
 "cells": [
  {
   "cell_type": "markdown",
   "metadata": {},
   "source": [
    "# CS81 Adaptive Robotics\n",
    "## Lab 5: Applying Novelty Search\n",
    "### Due the Monday after Fall Break (Oct. 23)\n",
    "---\n",
    "### Lab Goals\n",
    "1. Combine Novelty Search with NEAT to solve the coverage problem.\n",
    "2. Compare Novelty + NEAT results to the NEAT results you got in Lab 3.\n",
    "\n",
    "### Getting Started\n",
    "Use the github server to get the starting point notebooks for this lab.\n",
    "\n",
    "### Introduction\n",
    "\n",
    "In this lab you will combine your implementation of novelty search with NEAT and apply it to the coverage task.\n",
    "The goal of novelty search is to find unique behaviors, rather than optimizing a particular objective function. The pictures below show some example behaviors that were in the archive at the end of a single novelty search run with a population of 100 that was evolved for just 5 generations. Note that many of these behaviors are not very good at coverage, however they are quite different from one another. \n",
    "\n",
    "<img src=\"NoveltyResults.png\">\n",
    "\n",
    "Despite the fact that novelty search is not optimizing an objective function, it is still able to find successful networks that perform coverage quite well, as demonstrated in the pictures shown below of both the trail and grid of the best network found.  This network achieves 88.45% coverage, and only misses a few grid locations in the center, as well as some locations in the corners. This network had:\n",
    "\n",
    "* **4 inputs**: Representing whether the agent is stalled, a normalized distance to the nearest wall in front, a normalized count down timer, and a constant bias of 1.0.\n",
    "* **2 outputs**: Representing translation and rotation amounts.\n",
    "\n",
    "This network was found in generation 23 out of a total of 25 generations. The novelty search parameters were:\n",
    "\n",
    "* **k**=15\n",
    "* **limit**=100\n",
    "* **threshold**=0.2\n",
    "* **max_dist**= sqrt(2 x 14 x 14) x 225)\n",
    "\n",
    "<img src=\"CoverageResults.png\">"
   ]
  },
  {
   "cell_type": "code",
   "execution_count": 1,
   "metadata": {
    "collapsed": true
   },
   "outputs": [],
   "source": [
    "from jyro.simulator import *\n",
    "from math import pi, floor\n",
    "from random import random\n",
    "from neat3 import config, population, chromosome, genome, visualize\n",
    "from neat3.nn import nn_pure as nn\n",
    "import pickle\n",
    "import numpy as np"
   ]
  },
  {
   "cell_type": "markdown",
   "metadata": {},
   "source": [
    "### Update and import your novelty search notebook\n",
    "\n",
    "1. Copy your **NoveltySearch.ipynb** notebook from your **lab4** directory into your **lab5** directory. \n",
    "2. Open this notebook and add two new class variables into the constructor called **self.bestScore**, which you should initialize to 0, and **self.bestChromos**, which you should initialize to the empty list.  These two variables will be used to track the best objective fitness networks found during the novelty search process.\n",
    "3. Comment out any test code in this notebook.\n",
    "4. Save it.\n",
    "4. Use git to add, commit, and push it. \n",
    "\n",
    "Then you can import the notebook as shown in the next cell."
   ]
  },
  {
   "cell_type": "code",
   "execution_count": 2,
   "metadata": {
    "collapsed": true
   },
   "outputs": [],
   "source": [
    "%run NoveltySearch.ipynb"
   ]
  },
  {
   "cell_type": "markdown",
   "metadata": {},
   "source": [
    "### Configure NEAT for novelty search\n",
    "The maximum possible novelty score is 1.0, which occurs the first time a behavior is added to the archive.\n",
    "\n",
    "* **maximum_fitness_threshold** has been set to 1.1 to ensure that every novelty run executes all generations.\n",
    "* **elitism** has been set to 0 to encourage as much diversity as possible.\n",
    "* You will need to set the number of input nodes to fit the number of sensors you used in your Lab 3 experiments."
   ]
  },
  {
   "cell_type": "code",
   "execution_count": 3,
   "metadata": {},
   "outputs": [
    {
     "name": "stdout",
     "output_type": "stream",
     "text": [
      "Overwriting configNovelty\n"
     ]
    }
   ],
   "source": [
    "%%file configNovelty\n",
    "[phenotype]\n",
    "input_nodes         = 4\n",
    "output_nodes        = 2\n",
    "max_weight          = 30\n",
    "min_weight          = -30\n",
    "feedforward         = 1\n",
    "nn_activation       = tanh \n",
    "hidden_nodes        = 0\n",
    "weight_stdev        = 0.9\n",
    "\n",
    "[genetic]\n",
    "pop_size              = 100\n",
    "max_fitness_threshold = 1.1\n",
    "prob_addconn          = 0.1\n",
    "prob_addnode          = 0.05\n",
    "prob_mutatebias       = 0.2\n",
    "bias_mutation_power   = 0.5\n",
    "prob_mutate_weight    = 0.9\n",
    "weight_mutation_power = 1.5\n",
    "prob_togglelink       = 0.01\n",
    "elitism               = 0\n",
    "\n",
    "[genotype compatibility]\n",
    "compatibility_threshold = 3.0\n",
    "compatibility_change    = 0.0\n",
    "excess_coeficient       = 1.0\n",
    "disjoint_coeficient     = 1.0\n",
    "weight_coeficient       = 0.4\n",
    "\n",
    "[species]\n",
    "species_size        = 10\n",
    "survival_threshold  = 0.2\n",
    "old_threshold       = 30\n",
    "youth_threshold     = 10\n",
    "old_penalty         = 0.2\n",
    "youth_boost         = 1.2\n",
    "max_stagnation      = 15"
   ]
  },
  {
   "cell_type": "markdown",
   "metadata": {},
   "source": [
    "### Determine the task sensors\n",
    "\n",
    "Modify the **get_sensors** function to use your preferred sensors for the coverage task. You should use the same sensors that you experimented with in Lab 3, so that you can compare the results you get with Novelty + NEAT vs NEAT alone."
   ]
  },
  {
   "cell_type": "code",
   "execution_count": 4,
   "metadata": {
    "collapsed": true
   },
   "outputs": [],
   "source": [
    "def make_world(physics):\n",
    "    physics.addBox(0, 0, 4, 4, fill=\"white\", wallcolor=\"black\")\n",
    "\n",
    "def make_robot():\n",
    "    robot = Pioneer(\"Pioneer\", 2, 2, 0) \n",
    "    robot.addDevice(Pioneer16Sonars())\n",
    "    return robot\n",
    "\n",
    "def get_sensors(robot, steps, i):\n",
    "    sonars = robot[\"sonar\"].getData()\n",
    "    scaled = [min(v/5.0, 1.0) for v in sonars]\n",
    "    timer_down = (steps-i)/steps\n",
    "    inputs = [min(scaled[3:5]), robot.stall, timer_down, 1.0]\n",
    "    return inputs"
   ]
  },
  {
   "cell_type": "markdown",
   "metadata": {},
   "source": [
    "### Modify the Grid class\n",
    "We want the **Grid** class to create a behavior description that we can use in novelty search. We will record, in order, the first time a grid cell is visited. For these experiments, use a grid size of 15x15.\n",
    "\n",
    "* Modify the constructor to include a class variable called **self.behavior**, initialized as an empty list, where you will store the behavior of the robot.\n",
    "* Modify the **update** method so that whenever a new grid cell is visited, its (col, row) is added to the **self.behavior** list. \n",
    "* Add a **get_behavior** method that returns a list of length **grid_width x grid_width** that begins with the contents of the **self.behavior** list and is padded with **(0, 0)** entries to make it the correct length."
   ]
  },
  {
   "cell_type": "code",
   "execution_count": 5,
   "metadata": {
    "collapsed": true
   },
   "outputs": [],
   "source": [
    "class Grid(object):\n",
    "    \"\"\"This class creates a grid of locations on top of a simulated world\n",
    "    to monitor how much of the world has been visited. Each grid location\n",
    "    is initally set to 0 to indicate that it is unvisited, and is updated\n",
    "    to 1, once it has been visited.\"\"\"\n",
    "    def __init__(self, grid_width, world_width):\n",
    "        self.grid_width = grid_width\n",
    "        self.world_width = world_width\n",
    "        self.grid = []\n",
    "        for i in range(self.grid_width):\n",
    "            self.grid.append([0] * self.grid_width)\n",
    "\n",
    "    def show(self):\n",
    "        \"\"\"Print a representation of the grid.\"\"\"\n",
    "        for i in range(self.grid_width):\n",
    "            for j in range(self.grid_width):\n",
    "                print(\"%2d\" % self.grid[i][j], end=\" \")\n",
    "            print()\n",
    "        print()\n",
    "        \n",
    "    def update(self, x, y):\n",
    "        \"\"\"In the simulator, the origin is at the bottom left corner.\n",
    "        Adjust the row to match this configuration. Set the appropriate\n",
    "        grid location to 1.\"\"\"\n",
    "        size = self.world_width/self.grid_width\n",
    "        col = floor(x/size)\n",
    "        # adjust the row so that it matches the simulator\n",
    "        row = self.grid_width - 1 - floor(y/size)\n",
    "        self.grid[row][col] = 1\n",
    "        \n",
    "    def analyze_visits(self):\n",
    "        \"\"\"Calculate the percentage of visited cells in the grid.\"\"\"\n",
    "        cells_visited = 0\n",
    "        for i in range(self.grid_width):\n",
    "            for j in range(self.grid_width):\n",
    "                if self.grid[i][j] > 0:\n",
    "                    cells_visited += 1\n",
    "        percent_visited = cells_visited/self.grid_width**2\n",
    "        return percent_visited"
   ]
  },
  {
   "cell_type": "markdown",
   "metadata": {},
   "source": [
    "### Determining fitness\n",
    "\n",
    "The **eval_individual** function is used to evaluate a particular neural network brain to determine both the objective fitness (in this case how well it controls the robot's movement such that it maximizes its coverage of the world) and the behavior description used by novelty search. \n",
    "\n",
    "The **eval_novelty_population** function is used to evaluate the current population. The NEAT interface requires that this function takes a single parameter representing the population.  Because we need additional variables to evaluate the population, these are designated as global variables. Read through this function and make sure you understand how NEAT and novelty search have been combined. Notice that the fitness being used by NEAT is the novelty of the brain's behavior, yet we are still tracking the objective fitness so as to find what we are ultimately searching for--good coverage performance. \n",
    "\n",
    "The **evolve** function takes a **NoveltySearch** object along with the desired number of generations, and initiates the search.\n",
    "\n",
    "You should not need to modify any of this code."
   ]
  },
  {
   "cell_type": "code",
   "execution_count": 6,
   "metadata": {
    "collapsed": true
   },
   "outputs": [],
   "source": [
    "def eval_individual(brain, robot, sim, show_trail=False, steps=1000):\n",
    "    \"\"\"Returns both the coverage score AND the behavior list\"\"\"\n",
    "    robot.setPose(2, 2, 0)\n",
    "    if show_trail:\n",
    "        robot.useTrail = True\n",
    "        robot.trail = []   \n",
    "        robot.display['trail'] = 1\n",
    "    grid = Grid(15, 4) \n",
    "    for i in range(steps):\n",
    "        brain.flush() \n",
    "        inputs = get_sensors(robot, steps, i)\n",
    "        output = brain.sactivate(inputs)\n",
    "        robot.move(*output)\n",
    "        x, y, a = robot.getPose()\n",
    "        grid.update(x, y)\n",
    "        sim.step()\n",
    "    return grid.analyze_visits(), grid.get_behavior()\n",
    "\n",
    "def eval_novelty_population(population):\n",
    "    global novSearch, robot, sim\n",
    "    bestScoreOfGen = 0\n",
    "    bestChromoOfGen = None\n",
    "    print(\"Evaluating chromo\", end=\" \")\n",
    "    for i in range(len(population)):\n",
    "        print(i, end=\" \")\n",
    "        chromo = population[i]\n",
    "        brain = nn.create_ffphenotype(chromo)\n",
    "        objective_fitness, behavior = eval_individual(brain, robot, sim)\n",
    "        if objective_fitness > bestScoreOfGen:\n",
    "            bestScoreOfGen = objective_fitness\n",
    "            bestChromoOfGen = chromo\n",
    "        novelty = novSearch.check_archive(behavior, chromo)\n",
    "        chromo.fitness = novelty\n",
    "    print()\n",
    "    if bestScoreOfGen > novSearch.bestScore:\n",
    "        print(\"!!! New best coverage behavior found %f\\n\" % bestScoreOfGen)\n",
    "        novSearch.bestScore = bestScoreOfGen\n",
    "        novSearch.bestChromos.append((bestChromoOfGen, bestScoreOfGen))\n",
    "        f = open(\"bestChromo%d\" % (len(novSearch.bestChromos)-1), \"wb\")\n",
    "        pickle.dump(bestChromoOfGen, f)\n",
    "        f.close()\n",
    "        \n",
    "def evolve(novSearch, generations):\n",
    "    config.load(\"configNovelty\")\n",
    "    chromosome.node_gene_type = genome.NodeGene\n",
    "    population.Population.evaluate = eval_novelty_population\n",
    "    pop = population.Population()\n",
    "    pop.epoch(generations, report=True)\n",
    "    visualize.plot_stats(pop.stats)\n",
    "    visualize.plot_species(pop.species_log)\n",
    "    print(\"\\nFound behaviors with the following coverage scores:\")\n",
    "    for i in range(len(novSearch.bestChromos)):\n",
    "        print(novSearch.bestChromos[i][1])\n",
    "    print(\"\\nNovelty scores for 5 most recently added behaviors:\")\n",
    "    i = 0\n",
    "    for saved in novSearch.archive[-5:]:\n",
    "        print(saved[1])\n",
    "        f = open(\"novelty%d\" % (i), \"wb\")\n",
    "        pickle.dump(saved[2], f)\n",
    "        f.close()\n",
    "        i += 1\n",
    "    novSearch.plot_growth()"
   ]
  },
  {
   "cell_type": "markdown",
   "metadata": {},
   "source": [
    "### Execute the search\n",
    "\n",
    "Uncomment the call to the **evolve** function. Begin with a small number of generations (such as 2), just to be sure that everything is working properly. \n",
    "\n",
    "Once you have successfully completed a short run, you can try a longer run of 10 or more generations. You may need to adjust the novelty search **threshold** so as to most effectively use the archive for your particular sensors."
   ]
  },
  {
   "cell_type": "code",
   "execution_count": 7,
   "metadata": {},
   "outputs": [],
   "source": [
    "robot = make_robot()\n",
    "sim = Simulator(robot, make_world)\n",
    "novSearch = NoveltySearch(15, 100, 0.2, np.sqrt(2*14*14)*225)\n",
    "#evolve(novSearch, 2)"
   ]
  },
  {
   "cell_type": "markdown",
   "metadata": {},
   "source": [
    "### Analyze the results\n",
    "\n",
    "Once the search completes, it generates a number of chromo files with either a **bestChromo** prefix for good coverage brains or with a **novelty** prefix for sample brains from the archive. It will also generate the average fitness plot as well as the speciation plot. Once you complete a longer run, open the average fitness plot.  Why does it look so different from the one created when you did NEAT alone? \n",
    "\n",
    "Uncomment the call to the **get_results** function to generate the coverage trails and phenotypes found by the search.  Open these trails and see what kinds of behaviors the search has generated. Open the phenotypes to see whether Novelty + NEAT generated networks that use hidden nodes."
   ]
  },
  {
   "cell_type": "code",
   "execution_count": 8,
   "metadata": {},
   "outputs": [],
   "source": [
    "def test_chromo(chromo_file):\n",
    "    global robot, sim\n",
    "    config.load('configNovelty')\n",
    "    chromosome.node_gene_type = genome.NodeGene\n",
    "    fp = open(chromo_file, \"rb\")\n",
    "    chromo = pickle.load(fp)\n",
    "    print(chromo)\n",
    "    fp.close()\n",
    "    visualize.draw_net(chromo, \"_\" + chromo_file)    \n",
    "    brain = nn.create_ffphenotype(chromo)\n",
    "    print(\"Evaluating coverage...\", end=\" \")\n",
    "    coverage, behavior = eval_individual(brain, robot, sim, show_trail=True)\n",
    "    canvas = Canvas((400,400))\n",
    "    sim.physics.draw(canvas)\n",
    "    canvas.save(\"trail_\" + chromo_file + \".svg\")\n",
    "    print(coverage)\n",
    "    \n",
    "def get_results(novSearch):\n",
    "    for i in range(len(novSearch.bestChromos)):\n",
    "        filename = \"bestChromo%d\" % i\n",
    "        print(filename)\n",
    "        test_chromo(filename)\n",
    "    for i in range(5):\n",
    "        filename = \"novelty%d\" % i\n",
    "        print(filename)\n",
    "        test_chromo(filename)\n",
    "        \n",
    "#get_results(novSearch)       "
   ]
  },
  {
   "cell_type": "markdown",
   "metadata": {},
   "source": [
    "### Summarize your results\n",
    "\n",
    "In Lab 3, you did 10 experiments with NEAT alone to solve the coverage problem. Here you should compare those results to what you find when using Novelty + NEAT in 10 experiments, where you report the same information as before.\n",
    "\n",
    "For deceptive tasks, we would expect Novelty + NEAT to outperform NEAT alone, but for non-deceptive tasks, we would expect NEAT to be better.  Is the coverage task deceptive? We would also expect Novelty + NEAT to generate a more diverse set of behaviors than NEAT alone. Do your results match these expectations? You can refer to particular trail files to support your argument.\n",
    "\n",
    "While you are waiting for these experiments to run, you should open up the **PosterExperiments.ipynb** notebook and start thinking about what you task you want to explore in your upcoming poster."
   ]
  },
  {
   "cell_type": "markdown",
   "metadata": {
    "collapsed": true
   },
   "source": [
    "### Use git to add, commit, and push\n",
    "Be sure to save this notebook to the repository."
   ]
  },
  {
   "cell_type": "code",
   "execution_count": null,
   "metadata": {
    "collapsed": true
   },
   "outputs": [],
   "source": []
  }
 ],
 "metadata": {
  "kernelspec": {
   "display_name": "Python 3",
   "language": "python",
   "name": "python3"
  },
  "language_info": {
   "codemirror_mode": {
    "name": "ipython",
    "version": 3
   },
   "file_extension": ".py",
   "mimetype": "text/x-python",
   "name": "python",
   "nbconvert_exporter": "python",
   "pygments_lexer": "ipython3",
   "version": "3.5.2"
  }
 },
 "nbformat": 4,
 "nbformat_minor": 2
}
