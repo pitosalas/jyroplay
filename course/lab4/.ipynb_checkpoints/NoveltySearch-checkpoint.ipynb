{
 "cells": [
  {
   "cell_type": "markdown",
   "metadata": {},
   "source": [
    "# CS81 Adaptive Robotics\n",
    "\n",
    "## Lab 4: Implementing Novelty Search\n",
    "\n",
    "### Due next Monday before noon\n",
    "\n",
    "---\n",
    "\n",
    "### Lab goals\n",
    "\n",
    "1. Understand how novelty search operates at a detailed enough level to successfully implement it.\n",
    "2. Develop unit tests to ensure that your implementation operates correctly.\n",
    "3. Develop analysis tools to monitor search results.\n",
    "4. Use randomness to generate larger-scale tests, and experiment with search parameters.\n",
    "\n",
    "### Getting started\n",
    "\n",
    "Use the github server to get the starting point notebook for this lab.\n",
    "\n",
    "### Introduction\n",
    "\n",
    "Novelty search is a method of searching for a variety of solutions rather than trying to optimize a particular goal. To do this, novelty search maintains an *archive* of behaviors, comparing current behaviors against the saved ones to determine whether a current behavior is novel enough to add to the archive.  A current behavior's novelty is defined as the **average distance** to its **k** nearest neighbors in the archive.\n",
    "\n",
    "We will be representing a *behavior* as a **list of points**, where points may be of some arbitrary dimension, and the list may be of some arbitrary length. For example, consider the coverage task that we worked on in the previous lab.  One way to represent the behavior of a robot in this task is to record the **new** grid locations it visits in order.  The length of this particular behavior space will be the total number of grid locations, which for a 15x15 grid is 225.  The length of each point in this behavior space will be 2, representing the (x, y) location of each grid square.\n",
    "\n",
    "### 1. Implement the NoveltySearch class\n",
    "\n",
    "* **constructor**:\n",
    "Create class variables to store the **archive** as an initially empty list, the **k** (an\n",
    "integer) to be used in calculating nearest neighbors, the **limit** (an integer) for the maximum size of the archive, the **threshold** (a float) for how novel an example has to be before it will be added the archive, and the **max_dist** (a number) for the maximum possible distance between any two behaviors in the archive.\n",
    "\n",
    "* **point_dist**:\n",
    "Returns the Euclidean distance between points **p1** and **p2**, which are assumed to be lists of equal length. To calculate distance, sum up the squared differences between each component of the points. Return the square root of this sum.  *This method should work for points of any length.*\n",
    "\n",
    "* **behavior_dist**:\n",
    "Returns the sum of the point distances between behaviors **b1** and **b2**, which are assumed to be lists of points of equal length. *This method should work for behaviors of any length.*\n",
    "\n",
    "* **k_nearest_dist**:\n",
    "For the given **behavior**, returns the sum of the behavior distances to its **k** nearest neighbors in the archive. \n",
    "\n",
    "* **sparseness**:\n",
    "For the given **behavior**, returns the **normalized** average distance (based on the **max_dist**) to its **k** nearest neighbors in the archive.  If the archive is empty, then return 1.0.  If the archive has less than **k** behaviors, the use the archive's current size to compute the average distance. The sparseness of a behavior will represent its novelty.  \n",
    "\n",
    "* **check_archive**:\n",
    "This method checks whether the given **behavior** is novel enough to add to the archive and returns its **sparseness**. The parameter **other_info** can be used to store additional information along with the behavior in the archive. This will be helpful when doing analyses of the evolutionary run, once it completes. The archive is represented as a list of tuples, where each tuple contains a behavior, its sparseness, and the its other associated information.  The behavior at the front of the archive is the oldest, and the behavior at the end of the archive is the newest. When the size of the archive is less than **k**, then add the given behavior to the archive. Otherwise check if the **sparseness** of the given behavior is greater than the **threshold**, and if so, add the behavior to the archive. After adding a behavior, test if the archive size has exceeded the **limit**, and if so, remove the oldest behavior from the archive. \n",
    "\n",
    "* **plot_behaviors** and **plot_archive**: \n",
    "You will implement these methods later.\n",
    "\n",
    "Once you complete your first pass at the implementation, use git to add, commit, and push your changes."
   ]
  },
  {
   "cell_type": "code",
   "execution_count": 1,
   "metadata": {
    "collapsed": true
   },
   "outputs": [],
   "source": [
    "import random\n",
    "import numpy as np\n",
    "import matplotlib\n",
    "import matplotlib.pyplot as plt\n",
    "%matplotlib inline"
   ]
  },
  {
   "cell_type": "code",
   "execution_count": 2,
   "metadata": {
    "collapsed": true
   },
   "outputs": [],
   "source": [
    "class NoveltySearch(object):\n",
    "    def __init__(self, k, limit, threshold, max_dist):\n",
    "        pass\n",
    "\n",
    "    def point_dist(self, p1, p2):\n",
    "        pass\n",
    "    \n",
    "    def behavior_dist(self, b1, b2):\n",
    "        pass\n",
    "    \n",
    "    def k_nearest_dist(self, behavior):\n",
    "        pass\n",
    "    \n",
    "    def sparseness(self, behavior):\n",
    "        pass\n",
    "        \n",
    "    def check_archive(self, behavior, other_info=None):\n",
    "        pass\n",
    "    \n",
    "    def plot_growth(self):\n",
    "        pass\n",
    "                                \n",
    "    def plot_behaviors(self, max_x=1.0, max_y=1.0):\n",
    "        pass"
   ]
  },
  {
   "cell_type": "markdown",
   "metadata": {},
   "source": [
    "### 2. Unit test the methods \n",
    "\n",
    "Test your implementation by creating some sample behaviors where all points are two dimensions and have coordinates in the range **[0, 1]**, and all behaviors contain four points.  Determine the maximum possible distance between such points. You'll also need to determine a good threshold based on your test behaviors. \n",
    "\n",
    "* Create an instance of the **NoveltySearch** class where **k** is 2, the **limit** is 3, and the **threshold** and **max_dist** are set to appropriate values. \n",
    "* Create at least 5 different behaviors.  Remember that a behavior is defined as a list of points. Create two pairs of behaviors that are similar to one another (but not to the other pair) and one behavior that is unique from all of the rest. \n",
    "* Use **assert** to verify that all of your methods work as you expect them to. \n",
    "* Demonstrate that after calling **check_archive** on all of the sample behaviors, the archive retains one example from each pair along with the most unique pattern. "
   ]
  },
  {
   "cell_type": "code",
   "execution_count": 3,
   "metadata": {
    "collapsed": true
   },
   "outputs": [],
   "source": [
    "def unit_tests():\n",
    "    pass\n",
    "\n",
    "unit_tests()"
   ]
  },
  {
   "cell_type": "markdown",
   "metadata": {
    "collapsed": true
   },
   "source": [
    "### 3. Analysis tools\n",
    "\n",
    "Ensuring that the outcome of a machine learning process is correct can be tricky because it may incorporate randomness that leads to different results for each run.  It is often the case that you will need to implement additional functionality to assist in analyzing the results. We will use **matplotlib**'s **pyplot** to create several figures to help us monitor the search.\n",
    "\n",
    "* **plot_growth**: Plots the growth of the archive over time. In order to accomplish this you'll need to add a few more class variables.  In the constructor, initialize the class variables **self.steps** to zero and **self.growth** to the empty list. Then in the **check_archive** method, increment **self.steps** every time this method is called.  Also, whenever an addition is made to the archive, append to the **self.growth** list a tuple of the current step and the current size of the archive.  \n",
    "* **plot_behaviors**: Plots all of the behaviors that are currently in the archive. It should first assert that the archive is not empty and that the points within the behaviors have just two dimensions. The **max_y** and **max_y** parameters define the maximum possible x and y coordinates within the behavior space.\n",
    "\n",
    "Once you complete the analysis tools, use git to add, commit, and push your notebook.\n",
    "\n",
    "### 4. Using randomness to generate larger-scale tests\n",
    "\n",
    "In order to gain more intuition about how novelty search operates, you will explore how various parameters settings affect the contents of the archive.  Let's focus on the **threshold** parameter since it is crucial in determining when a behavior is novel enough to be added to the archive.\n",
    "\n",
    "Complete the function **random_2d_behavior** that returns a behavior of the given **length** as a list of 2d points in the range **[0,1]**. \n",
    "\n",
    "Next, complete the function **randomized_tests**.  Create an instance of **NoveltySearch** with a **k** of 3 and a **limit** of 10.  Let's use behaviors of length 3. You'll need to determine the **max_dist** for these behaviors, and you will experiment with the threshold setting. Loop 500 times, generating a random behavior and calling the **check_archive** method.  After the loop, call the **plot_growth** and **plot_behaviors** methods to see the results.\n",
    "\n",
    "Recall that the sparseness values are normalized, so the threshold setting should be a value in the range **[0,1]**. Smaller thresholds should lead to the archive reaching the limit in size more quickly.  For high enough thresholds, the archive may never reach its size limit.  What threshold value(s) seem to strike the best balance of using the capacity of the archive at a reasonable pace? You should run multiple experiments at each threshold setting. Include a markdown table showing your results. "
   ]
  },
  {
   "cell_type": "code",
   "execution_count": 4,
   "metadata": {
    "collapsed": true
   },
   "outputs": [],
   "source": [
    "def random_2d_behavior(length):\n",
    "    pass\n",
    "\n",
    "def randomized_tests():\n",
    "    pass\n",
    "\n",
    "randomized_tests()"
   ]
  },
  {
   "cell_type": "markdown",
   "metadata": {},
   "source": [
    "### Use git to add, commit, and push\n",
    "\n",
    "Be sure to save this notebook to the repository."
   ]
  },
  {
   "cell_type": "code",
   "execution_count": null,
   "metadata": {
    "collapsed": true
   },
   "outputs": [],
   "source": []
  }
 ],
 "metadata": {
  "kernelspec": {
   "display_name": "Python 3",
   "language": "python",
   "name": "python3"
  },
  "language_info": {
   "codemirror_mode": {
    "name": "ipython",
    "version": 3
   },
   "file_extension": ".py",
   "mimetype": "text/x-python",
   "name": "python",
   "nbconvert_exporter": "python",
   "pygments_lexer": "ipython3",
   "version": "3.5.2"
  }
 },
 "nbformat": 4,
 "nbformat_minor": 2
}
