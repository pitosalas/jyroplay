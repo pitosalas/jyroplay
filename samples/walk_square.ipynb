{
 "cells": [
  {
   "cell_type": "markdown",
   "metadata": {},
   "source": [
    "# Simple Random Walk with Obstacles"
   ]
  },
  {
   "cell_type": "code",
   "execution_count": 15,
   "metadata": {},
   "outputs": [],
   "source": [
    "from jyro.simulator import (Robot, Pioneer, Pioneer16Sonars, PioneerFrontLightSensors, \n",
    "                            Camera, Simulator, VSimulator)\n",
    "import numpy as np\n",
    "from math import pi\n",
    "from random import random"
   ]
  },
  {
   "cell_type": "code",
   "execution_count": 16,
   "metadata": {},
   "outputs": [],
   "source": [
    "def make_world(physics):\n",
    "    physics.addBox(0, 0, 10, 10, fill=\"backgroundgreen\", wallcolor=\"gray\")\n",
    "    physics.addBox(2, 2, 3, 3, fill=\"wheat2\", wallcolor=\"gray\")\n",
    "    physics.addBox(1,8, 4, 9, fill=\"wheat2\", wallcolor=\"gray\")"
   ]
  },
  {
   "cell_type": "code",
   "execution_count": 17,
   "metadata": {},
   "outputs": [],
   "source": [
    "def make_robot():\n",
    "    robot = Pioneer(\"Pioneer\", 0, 0, 0) #paremeters are x, y, heading (in radians)\n",
    "    return robot"
   ]
  },
  {
   "cell_type": "code",
   "execution_count": 20,
   "metadata": {},
   "outputs": [],
   "source": [
    "def square_brain(robot):\n",
    "    if state == 1:\n",
    "        if counter < 30:\n",
    "            translate = 2\n",
    "            rotate = 0\n",
    "            counter +=1\n",
    "            robot.move(translate, rotate)"
   ]
  },
  {
   "cell_type": "code",
   "execution_count": 21,
   "metadata": {},
   "outputs": [
    {
     "data": {
      "application/vnd.jupyter.widget-view+json": {
       "model_id": "3e66b03bc75341d1a5fd91b306f58e59",
       "version_major": 2,
       "version_minor": 0
      },
      "text/plain": [
       "VBox(children=(VBox(children=(HBox(children=(Checkbox(value=True, description='Update GUI'), Checkbox(value=Fa…"
      ]
     },
     "metadata": {},
     "output_type": "display_data"
    }
   ],
   "source": [
    "robot = make_robot()\n",
    "vsim = VSimulator(robot, make_world) #create a visual simulator to watch robot's behavior\n",
    "robot.setPose(1,1,0)\n",
    "vsim.update_gui()\n",
    "state = 1\n",
    "counter = 0\n",
    "robot.brain = square_brain"
   ]
  },
  {
   "cell_type": "code",
   "execution_count": null,
   "metadata": {},
   "outputs": [],
   "source": []
  }
 ],
 "metadata": {
  "kernelspec": {
   "display_name": "Python 3",
   "language": "python",
   "name": "python3"
  },
  "language_info": {
   "codemirror_mode": {
    "name": "ipython",
    "version": 3
   },
   "file_extension": ".py",
   "mimetype": "text/x-python",
   "name": "python",
   "nbconvert_exporter": "python",
   "pygments_lexer": "ipython3",
   "version": "3.7.6"
  }
 },
 "nbformat": 4,
 "nbformat_minor": 4
}
