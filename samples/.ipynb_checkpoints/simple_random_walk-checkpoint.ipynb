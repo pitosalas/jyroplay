{
 "cells": [
  {
   "cell_type": "markdown",
   "metadata": {},
   "source": [
    "# Simple Random Walk with Obstacles"
   ]
  },
  {
   "cell_type": "code",
   "execution_count": 85,
   "metadata": {},
   "outputs": [],
   "source": [
    "from jyro.simulator import (Robot, Pioneer, Pioneer16Sonars, PioneerFrontLightSensors, \n",
    "                            Camera, Simulator, VSimulator)\n",
    "import numpy as np\n",
    "from math import pi\n",
    "from random import random"
   ]
  },
  {
   "cell_type": "code",
   "execution_count": 86,
   "metadata": {},
   "outputs": [],
   "source": [
    "def make_world(physics):\n",
    "    physics.addBox(0, 0, 10, 10, fill=\"backgroundgreen\", wallcolor=\"gray\")\n",
    "    physics.addBox(2, 2, 3, 3, fill=\"wheat2\", wallcolor=\"gray\")\n",
    "    physics.addBox(1,8, 4, 9, fill=\"wheat2\", wallcolor=\"gray\")\n",
    "    physics.addLight(2, 3.5, 1.0)"
   ]
  },
  {
   "cell_type": "code",
   "execution_count": 87,
   "metadata": {},
   "outputs": [],
   "source": [
    "def make_robot():\n",
    "    robot = Pioneer(\"Pioneer\", 0, 0, 0) #paremeters are x, y, heading (in radians)\n",
    "    robot.addDevice(Pioneer16Sonars())\n",
    "    robot.addDevice(Camera())\n",
    "    light_sensors = PioneerFrontLightSensors(3) #parameter defines max range\n",
    "    light_sensors.lightMode = 'ambient'\n",
    "    robot.addDevice(light_sensors)\n",
    "    return robot"
   ]
  },
  {
   "cell_type": "code",
   "execution_count": 88,
   "metadata": {},
   "outputs": [],
   "source": [
    "def random_start(robot):\n",
    "    robot.setPose(9,9,0)"
   ]
  },
  {
   "cell_type": "code",
   "execution_count": 89,
   "metadata": {},
   "outputs": [],
   "source": [
    "def random_walk_brain(robot):\n",
    "    sonars = robot[\"sonar\"]\n",
    "    sonardata = sonars.getData()\n",
    "    translate = 2 + (random()-0.5)*0.1\n",
    "    rotate = 4 * (random()-0.5)\n",
    "    if min(sonardata[3:5]) < 0.8:\n",
    "        if min(sonardata[1:4]) < min(sonardata[4:7]):\n",
    "            translate = 0.1\n",
    "            rotate = -0.3 - random()\n",
    "        else:\n",
    "            translate = 0.1\n",
    "            rotate = 0.3  + random()\n",
    "    robot.move(translate, rotate)    "
   ]
  },
  {
   "cell_type": "code",
   "execution_count": 92,
   "metadata": {},
   "outputs": [
    {
     "data": {
      "application/vnd.jupyter.widget-view+json": {
       "model_id": "314bd138790b473f8a6207a8ed9e8738",
       "version_major": 2,
       "version_minor": 0
      },
      "text/plain": [
       "VBox(children=(VBox(children=(HBox(children=(Checkbox(value=True, description='Update GUI'), Checkbox(value=Fa…"
      ]
     },
     "metadata": {},
     "output_type": "display_data"
    }
   ],
   "source": [
    "robot = make_robot()\n",
    "vsim = VSimulator(robot, make_world) #create a visual simulator to watch robot's behavior\n",
    "random_start(robot)\n",
    "vsim.update_gui()\n",
    "robot.brain = random_walk_brain"
   ]
  },
  {
   "cell_type": "code",
   "execution_count": 83,
   "metadata": {},
   "outputs": [
    {
     "ename": "NameError",
     "evalue": "name 'world' is not defined",
     "output_type": "error",
     "traceback": [
      "\u001b[0;31m---------------------------------------------------------------------------\u001b[0m",
      "\u001b[0;31mNameError\u001b[0m                                 Traceback (most recent call last)",
      "\u001b[0;32m<ipython-input-83-9591818c07e9>\u001b[0m in \u001b[0;36m<module>\u001b[0;34m\u001b[0m\n\u001b[0;32m----> 1\u001b[0;31m \u001b[0mworld\u001b[0m\u001b[0;34m\u001b[0m\u001b[0;34m\u001b[0m\u001b[0m\n\u001b[0m",
      "\u001b[0;31mNameError\u001b[0m: name 'world' is not defined"
     ]
    }
   ],
   "source": [
    "    sim = Simulator(robot, worldf)\n",
    "    for i in range(10):\n",
    "        \n",
    "        sim.step()\n",
    "        sim.canvas.save(\"canvas%d.svg\" % i)"
   ]
  },
  {
   "cell_type": "code",
   "execution_count": null,
   "metadata": {},
   "outputs": [],
   "source": []
  },
  {
   "cell_type": "code",
   "execution_count": null,
   "metadata": {},
   "outputs": [],
   "source": []
  }
 ],
 "metadata": {
  "kernelspec": {
   "display_name": "Python 3",
   "language": "python",
   "name": "python3"
  },
  "language_info": {
   "codemirror_mode": {
    "name": "ipython",
    "version": 3
   },
   "file_extension": ".py",
   "mimetype": "text/x-python",
   "name": "python",
   "nbconvert_exporter": "python",
   "pygments_lexer": "ipython3",
   "version": "3.7.6"
  }
 },
 "nbformat": 4,
 "nbformat_minor": 4
}
